{
 "cells": [
  {
   "cell_type": "markdown",
   "id": "3d52a5d1",
   "metadata": {},
   "source": [
    "<h2 align = \"center\">Biomath 205 HW1</h2>\n",
    "<h2 align = \"center\">Zixi Zhang</h2>"
   ]
  },
  {
   "cell_type": "markdown",
   "id": "76b2ae94",
   "metadata": {},
   "source": [
    "## Chapter01"
   ]
  },
  {
   "cell_type": "markdown",
   "id": "fd27e7d8",
   "metadata": {},
   "source": [
    "$\\textbf{1.6}$&#8193;Why does the product of the two roots of a quadratic equal $\\frac{c}{a}$ ?  \n",
    "\n",
    "\n",
    "&#8193;&#8193; Given a quadratic equation: \n",
    "\\begin{align*}\n",
    "&a x^2+b x+c=0 \\\\\n",
    "&a x^2+b x=-c \\\\\n",
    "&x^2 + \\frac{b}{a} = - \\frac{c}{a}\\\\\n",
    "&x^2 + \\frac{b}{a} +\\frac{b^2}{4a^2} = \\frac{b^2}{4a^2} - \\frac{c}{a}\\\\\n",
    "&(x + \\frac{b}{2a})^2 = \\frac{b^2 -4ac}{4a^2} \\\\\n",
    "&x + \\frac{b}{2a} =\t\\pm\\sqrt{\\frac{b^2 -4ac}{4a^2}}\\\\\n",
    "& x = \\frac{\\pm \\sqrt{b^2-4 a c}}{2 a} - \\frac{b}{2a} \\\\\n",
    "& x = \\frac{-b +\\pm \\sqrt{b^2-4 a c}}{2 a} \n",
    "\\end{align*}\n",
    "\n",
    "&#8193;&#8193; The two roots can be represented as $r_1=\\frac{-b+\\sqrt{b^2-4 a c}}{2 a}$ and $r_2=\\frac{-b-\\sqrt{b^2-4 a c}}{2 a}$)  \n",
    "&#8193;&#8193; The product of the two roots\n",
    "\\begin{align*}\n",
    "r_1 \\cdot r_2 &=\\left(\\frac{-b+\\sqrt{b^2-4 a c}}{2 a}\\right) \\cdot\\left(\\frac{-b-\\sqrt{b^2-4 a c}}{2 a}\\right) \\\\\n",
    "&=\\frac{b^2+b \\sqrt{b^2-4 a c}-b \\sqrt{b^2-4 a c}-\\left(b^2-4 a c\\right)}{4 a^2} \\\\\n",
    "&=\\frac{b^2-b^2+4 a c}{4 a^2} \\\\\n",
    "&=\\frac{4 a c}{4 a^2} \\\\\n",
    "&=\\frac{c}{a}\n",
    "\\end{align*}"
   ]
  },
  {
   "cell_type": "markdown",
   "id": "29c23633",
   "metadata": {},
   "source": [
    "1.8&#8193;Write a Julia program to find the integers c and d in Bézout’s identity  \n",
    "$$gcd(a, b) = ca + db.$$"
   ]
  },
  {
   "cell_type": "code",
   "execution_count": 2,
   "id": "7f4525b2",
   "metadata": {},
   "outputs": [
    {
     "name": "stdout",
     "output_type": "stream",
     "text": [
      "(6, -5)\n",
      "(1, -2)\n"
     ]
    }
   ],
   "source": [
    "function Bezout(a::Integer, b::Integer)\n",
    "    i ::Integer, j::Integer = a, b\n",
    "    x1::Integer, y1::Integer = 1, 0\n",
    "    x2::Integer, y2::Integer = 0, 1\n",
    "    while j!= 0\n",
    "        z = i ÷ j\n",
    "        i, j = j, i%j\n",
    "        x1, x2 = x2, x1-z*x2\n",
    "        y1, y2 = y2, y1-z*y2\n",
    "    end\n",
    "  return x1, y1\n",
    "end\n",
    "\n",
    "println(Bezout(319,377))\n",
    "println(Bezout(54,24))"
   ]
  },
  {
   "cell_type": "markdown",
   "id": "1349c8f4",
   "metadata": {},
   "source": [
    "For $a = 319$,  $b = 377$, $gcd(a,b)=ca+db=6 \\cdot 319 + (-5)\\cdot 377 = 29$,  where $c = 6, d = -5$  \n",
    "For $a = 54$,  $b = 24$, $gcd(a,b)=ca+db=1 \\cdot 54 + (-2)\\cdot 24 = 6$,  where $c = 1, d = -2$"
   ]
  },
  {
   "cell_type": "markdown",
   "id": "c123df09",
   "metadata": {},
   "source": [
    "## Chapter02"
   ]
  },
  {
   "cell_type": "markdown",
   "id": "f5d75e76",
   "metadata": {},
   "source": [
    "$\\textbf{2.4}$ &#8193;Given a sorted array of numbers of length n and a number c, write a Julia program to find the pair of numbers in the array whose sum is closest to c. An efficient solution can find the pair in O(n) time."
   ]
  },
  {
   "cell_type": "code",
   "execution_count": 17,
   "id": "f49711ed",
   "metadata": {},
   "outputs": [
    {
     "name": "stdout",
     "output_type": "stream",
     "text": [
      "[-2, 3]\n"
     ]
    }
   ],
   "source": [
    "function sum_closest(x::Vector, value)\n",
    "    n =length(x)\n",
    "    index_i, index_j = 1, 1\n",
    "    i, j = 1, n\n",
    "    diff = Inf\n",
    "    while i < j\n",
    "        if abs(x[i] + x[j] - value) < diff\n",
    "            index_i = i\n",
    "            index_j = j\n",
    "            diff = abs(x[i] + x[j] - value)\n",
    "        end\n",
    "        if x[i] + x[j] > value\n",
    "            j -= 1\n",
    "        else\n",
    "            i += 1\n",
    "        end\n",
    "    end\n",
    "    return [x[index_i], x[index_j]]\n",
    "end\n",
    "    \n",
    "x = sort([1,6,-2,4,7,8,3])\n",
    "println(sum_closest(x,0))"
   ]
  },
  {
   "cell_type": "markdown",
   "id": "14a66960",
   "metadata": {},
   "source": [
    "$\\textbf{2.9}$ &#8193;Write an efficient Julia function to extract the closest entry of a ordered numerical sequence x to a given number c. (Hint: Use bisection.)"
   ]
  },
  {
   "cell_type": "code",
   "execution_count": 2,
   "id": "73587b49",
   "metadata": {},
   "outputs": [
    {
     "name": "stdout",
     "output_type": "stream",
     "text": [
      "9\n",
      "[2, 4]\n"
     ]
    }
   ],
   "source": [
    "function closest_search(x::Vector, value)\n",
    "    a = 1\n",
    "    b = length(x)\n",
    "    while a + 1 < b \n",
    "        m = div(a + b, 2)\n",
    "        if x[m] > value\n",
    "            b = m\n",
    "        elseif x[m] < value\n",
    "            a = m \n",
    "        else\n",
    "            return x[m]\n",
    "        end\n",
    "    end\n",
    "    if abs(x[a] - value) < abs(x[b] - value)\n",
    "        return x[a]\n",
    "    elseif abs(x[a] - value) > abs(x[b] - value)\n",
    "        return x[b]\n",
    "    else\n",
    "        return [x[a],x[b]]\n",
    "    end\n",
    "end\n",
    "\n",
    "x = [1, 2, 4, 7, 9]\n",
    "println(closest_search(x, 10))\n",
    "println(closest_search(x, 3))"
   ]
  },
  {
   "cell_type": "markdown",
   "id": "fac97723",
   "metadata": {},
   "source": [
    "$\\textbf{Book Problem 2.7(5)}$&#8193;Suppose $x$ and $y$ are two sorted array of numbers of length $m$ and $n$, respectively. Design and implement a Julia program to merge $x$ and $y$ into a single sorted array of length $m + n$. Your algorithm should have computational complexity $O(m+n)$."
   ]
  },
  {
   "cell_type": "code",
   "execution_count": 35,
   "id": "4fc1dc17",
   "metadata": {},
   "outputs": [
    {
     "name": "stdout",
     "output_type": "stream",
     "text": [
      "[-8.0, -5.0, -4.0, 0.0, 1.0, 2.0, 3.0, 3.0, 4.0, 5.0, 5.0, 6.0, 7.0, 9.0]\n"
     ]
    }
   ],
   "source": [
    "function merge_two_arrays(x::Array, y::Array)\n",
    "    m::Integer, n::Integer = length(x),length(y)\n",
    "    newarr = Array{Float64}(undef,m + n)\n",
    "    i::Integer, j::Integer, k::Integer = 1, 1, 1\n",
    "    while i <= m && j <= n\n",
    "        if x[i] < y[j]\n",
    "            newarr[k] = x[i]\n",
    "            k += 1\n",
    "            i += 1\n",
    "        else\n",
    "            newarr[k] = y[j]\n",
    "            k += 1\n",
    "            j += 1\n",
    "        end\n",
    "    end\n",
    "    while i <= m\n",
    "        newarr[k] = x[i]\n",
    "        k += 1\n",
    "        i += 1\n",
    "    end\n",
    "    while j <= n\n",
    "        newarr[k] = y[j]\n",
    "        k += 1\n",
    "        j += 1\n",
    "    end\n",
    "    return newarr\n",
    "end\n",
    "    \n",
    "\n",
    "x = sort([1,5,-4,3,6,9,3])\n",
    "y = sort([2,5,-8,7,0,4,-5])\n",
    "println(merge_two_arrays(x,y))"
   ]
  }
 ],
 "metadata": {
  "kernelspec": {
   "display_name": "Julia 1.8.1",
   "language": "julia",
   "name": "julia-1.8"
  },
  "language_info": {
   "file_extension": ".jl",
   "mimetype": "application/julia",
   "name": "julia",
   "version": "1.8.1"
  }
 },
 "nbformat": 4,
 "nbformat_minor": 5
}
