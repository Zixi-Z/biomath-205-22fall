{
 "cells": [
  {
   "cell_type": "markdown",
   "id": "e42c6128-dac9-4e26-83df-bb9cc80a9ab8",
   "metadata": {},
   "source": [
    "## Chapter 09"
   ]
  },
  {
   "cell_type": "markdown",
   "id": "29b9cfa6-5f8f-4a8b-8e4b-08b138a7dfe6",
   "metadata": {},
   "source": [
    "**(1)**&#8193;In a majorization-minimization algorithm with objective function $f(\\boldsymbol{x})$ and surrogate function $g\\left(\\boldsymbol{x} \\mid \\boldsymbol{x}_n\\right)$, show that the sequence $g\\left(\\boldsymbol{x}_{n+1} \\mid \\boldsymbol{x}_n\\right)$ decreases."
   ]
  },
  {
   "cell_type": "markdown",
   "id": "26e69ec2-702e-4f95-b6a8-26460eabce08",
   "metadata": {},
   "source": [
    "By definition,$$ g\\left(\\boldsymbol{x}_{n+2} \\mid \\boldsymbol{x}_{n+1}\\right)  \\leq g\\left(\\boldsymbol{x}_{n+1} \\mid \\boldsymbol{x}_{n+1}\\right) = f\\left(\\boldsymbol{x}_{n+1}\\right) \\leq g\\left(\\boldsymbol{x}_{n+1} \\mid \\boldsymbol{x}_{n}\\right)  \\leq g\\left(\\boldsymbol{x}_n \\mid \\boldsymbol{x}_n\\right)=f\\left(\\boldsymbol{x}_n\\right)$$\n",
    "$$\n",
    "\\Rightarrow \\left(\\boldsymbol{x}_{n+2} \\mid \\boldsymbol{x}_{n+1}\\right)  \\leq g\\left(\\boldsymbol{x}_{n+1} \\mid \\boldsymbol{x}_{n}\\right)\n",
    "$$\n",
    "So the sequence $g\\left(\\boldsymbol{x}_{n+1} \\mid \\boldsymbol{x}_n\\right)$ decreases"
   ]
  },
  {
   "cell_type": "markdown",
   "id": "b054a510-f435-42d3-a5f2-373f0d3e5c40",
   "metadata": {},
   "source": [
    "**(4)**&#8193;Prove that the function $\\ln \\Gamma(t)$ is convex. (Hint: Express $\\frac{d^2}{d t^2} \\ln \\Gamma(t)$ as the variance of $\\ln X$ for a certain random variable $X$.)"
   ]
  },
  {
   "cell_type": "markdown",
   "id": "ed9878ac-b0e2-43b8-a873-c9ae7bb05293",
   "metadata": {},
   "source": [
    "Let $z = t$, so $\\Gamma(t)=\\Gamma(z)$\n",
    "$$\\Gamma(z)=\\int_0^{\\infty} t^{z-1} e^{-t} d t$$\n",
    "\\begin{gathered}\n",
    "\\Gamma^{\\prime}(z)=\\int_0^{\\infty} \\log (t) e^{-t} t^{z-1} d t \\\\\n",
    "\\Gamma^{\\prime \\prime}(z)=\\int_0^{\\infty} \\log ^2(t) e^{-t} t^{z-1} d t\n",
    "\\end{gathered}"
   ]
  },
  {
   "cell_type": "markdown",
   "id": "cd167579-120c-43fe-b255-ecc618362bbe",
   "metadata": {},
   "source": [
    "\\begin{aligned}\n",
    "\\frac{d}{d z} \\ln \\Gamma(z) &=\\frac{\\int_0^{\\infty} \\ln (t) t^{z-1} e^{-t} d t}{\\int_0^{\\infty} y^{z-1} e^{-t} d t} \\\\\n",
    "\\frac{d^2}{d z^2} \\ln \\Gamma(z) &=\\frac{\\int_0^{\\infty} \\ln (t)^2 t^{z-1} e^{-t} d t}{\\int_0^{\\infty} t^{z-1} e^{-t} d t}-\\left[\\frac{\\int_0^{\\infty} \\ln (t) t^{z-1} e^{-t} d t}{\\int_0^{\\infty} t^{z-1} e^{-t} d t}\\right]^2 \\\\\n",
    "&=\\mathrm{E}\\left[\\ln (Z)^2\\right]-\\mathrm{E}[\\ln (Z)]^2 \\\\\n",
    "&=\\operatorname{Var}[\\ln (Z)]  \\geq 0\n",
    "\\end{aligned}\n",
    "where $Z$ has the density : $\\frac{ t^{z-1} e^{-t} d t}{\\int_0^{\\infty} t^{z-1} e^{-t} d t}$  \n",
    "So the second derivative of $\\ln \\Gamma(t)$ is nonnegative, the function $\\ln \\Gamma(t)$ is convex."
   ]
  },
  {
   "cell_type": "markdown",
   "id": "fa1280cb-179f-4fb9-bb86-e8ac58c2fe10",
   "metadata": {},
   "source": [
    "**(6)**&#8193;Prove the majorization\n",
    "$$\n",
    "\\begin{aligned}\n",
    "(x+y-z)^2 \\leq &-\\left(x_n+y_n-z_n\\right)^2+2\\left(x_n+y_n-z_n\\right)(x+y-z) \\\\\n",
    "&+3\\left[\\left(x-x_n\\right)^2+\\left(y-y_n\\right)^2+\\left(z-z_n\\right)^2\\right]\n",
    "\\end{aligned}\n",
    "$$\n",
    "separating the variables $x, y$, and $z$. In Example $9.6$ this would facilitate penalizing parameter curvature rather than changes in parameter values."
   ]
  },
  {
   "cell_type": "markdown",
   "id": "9ff6909e-580f-42fe-a9fd-981ba305b61a",
   "metadata": {},
   "source": [
    "$\\textit{Solution}$: \n",
    "For $x=x_n$,$y=y_n$,$z=z_n$  \n",
    "$$\n",
    "-(x_n+y_n-z_n)^2+2(x_n+y_n-z_n)^2+3[(x_n-x_n)^2+(y_n-y_n)^2+(z_n-z_n)^2]=(x_n+y_n-z_n)^2\n",
    "$$"
   ]
  },
  {
   "cell_type": "markdown",
   "id": "4ec7ecc2-6afa-44f2-be19-a5c23c969f72",
   "metadata": {},
   "source": [
    "\\begin{aligned}\n",
    "&-\\left(x_n+y_n-z_n\\right)^2+2\\left(x_n+y_n-z_n\\right)(x+y-z) +3\\left[\\left(x-x_n\\right)^2+\\left(y-y_n\\right)^2+\\left(z-z_n\\right)^2\\right] - (x+y+z)^2\\\\\n",
    "=& -[(x+y+z)-(x_n+y_n+z_n)]^2+3\\left[\\left(x-x_n\\right)^2+\\left(y-y_n\\right)^2+\\left(z-z_n\\right)^2\\right]\\\\\n",
    "=& -[(x-x_n)+(y-y_n)+(z-z_n)]^2+3\\left[\\left(x-x_n\\right)^2+\\left(y-y_n\\right)^2+\\left(z-z_n\\right)^2\\right]\\\\\n",
    "=&-\\{{(x-x_n)}^2+2 (x-x_n) (y-y_n)+2 (x-x_n) (z-z_n)+{(y-y_n)}^2+2 (y-y_n) (z-z_n)+(z-z_n)^2\\}+3\\left[\\left(x-x_n\\right)^2+\\left(y-y_n\\right)^2+\\left(z-z_n\\right)^2\\right]\\\\\n",
    "=& 2(x-x_n)^2+2(y-y_n)^2+2(z-z_n)^2-2((x-x_n) (y-y_n))-2(x-x_n) (z-z_n)-2(y-y_n) (z-z_n)\\\\\n",
    "=&[(x-x_n)-(y-y_n)]^2+[(x-x_n)-(z-z_n)]^2+[(y-y_n)-(z-z_n)]^2 \\geq 0\\\\\n",
    "\\Rightarrow &(x+y-z)^2 \\leq -\\left(x_n+y_n-z_n\\right)^2+2\\left(x_n+y_n-z_n\\right)(x+y-z)+3\\left[\\left(x-x_n\\right)^2+\\left(y-y_n\\right)^2+\\left(z-z_n\\right)^2\\right]\n",
    "\\end{aligned}"
   ]
  },
  {
   "cell_type": "markdown",
   "id": "5bcceaf3-0c82-4174-ac05-0e149cb2065f",
   "metadata": {},
   "source": [
    "**(9)**&#8193;Demonstrate the majorizations\n",
    "$$\n",
    "\\begin{aligned}\n",
    "x y & \\leq \\frac{1}{2}\\left(x^2+y^2\\right)+\\frac{1}{2}\\left(x_n-y_n\\right)^2-\\left(x_n-y_n\\right)(x-y) \\\\\n",
    "-x y & \\leq \\frac{1}{2}\\left(x^2+y^2\\right)+\\frac{1}{2}\\left(x_n+y_n\\right)^2-\\left(x_n+y_n\\right)(x+y)\n",
    "\\end{aligned}\n",
    "$$"
   ]
  },
  {
   "cell_type": "markdown",
   "id": "5a7b5955-b926-489c-b32f-7672a2a52e4b",
   "metadata": {},
   "source": [
    "$\\textit{Solution}$:  \n",
    "For $x y  \\leq \\frac{1}{2}\\left(x^2+y^2\\right)+\\frac{1}{2}\\left(x_n-y_n\\right)^2-\\left(x_n-y_n\\right)(x-y)$\n",
    "\\begin{aligned}\n",
    "g(x_n,y_n|x_n,y_n) &= \\frac{1}{2}({x_n}^2+y_n^2)+\\frac{1}{2}\\left(x_n-y_n\\right)^2-\\left(x_n-y_n\\right)(x_n-y_n)\\\\\n",
    "&= \\frac{1}{2}({x_n}^2+y_n^2)-\\frac{1}{2}\\left(x_n-y_n\\right)^2\\\\\n",
    "&= \\frac{1}{2}[x_n^2+y_n^2-(x_n^2+y_n^2-2x_ny_n] = x_ny_n = f(x_n,y_n) \\\\\n",
    "\\end{aligned}\n"
   ]
  },
  {
   "cell_type": "markdown",
   "id": "06d7f0b1-9af6-45f5-a10b-6b8f7687d906",
   "metadata": {},
   "source": [
    "\\begin{aligned}\n",
    "&\\frac{1}{2}\\left(x^2+y^2\\right)+\\frac{1}{2}\\left(x_n-y_n\\right)^2-\\left(x_n-y_n\\right)(x-y)-xy \\\\\n",
    "=&\\frac{1}{2}(x^2+y^2-2xy)+\\frac{1}{2}\\left(x_n-y_n\\right)^2-\\left(x_n-y_n\\right)(x-y) \\\\\n",
    "=&\\frac{1}{2}{(x-y)}^2+\\frac{1}{2}\\left(x_n-y_n\\right)^2-\\left(x_n-y_n\\right)(x-y)\\\\\n",
    "=&\\frac{1}{2}[(x-y)-(x_n-y_n)]^2 \\geq 0\\\\\n",
    "\\Rightarrow & \\frac{1}{2}\\left(x^2+y^2\\right)+\\frac{1}{2}\\left(x_n-y_n\\right)^2-\\left(x_n-y_n\\right)(x-y)  \\geq xy\n",
    "\\end{aligned}"
   ]
  },
  {
   "cell_type": "markdown",
   "id": "8ea708b5-da2b-4e7d-abeb-f6b7a6075934",
   "metadata": {},
   "source": [
    "For $-x y  \\leq \\frac{1}{2}\\left(x^2+y^2\\right)+\\frac{1}{2}\\left(x_n+y_n\\right)^2-\\left(x_n+y_n\\right)(x+y)$  \n",
    "\\begin{aligned}\n",
    "g(x_n,y_n|x_n,y_n) &= \\frac{1}{2}({x_n}^2+y_n^2)+\\frac{1}{2}\\left(x_n+y_n\\right)^2-\\left(x_n+y_n\\right)(x_n+y_n)\\\\\n",
    "&= \\frac{1}{2}({x_n}^2+y_n^2)-\\frac{1}{2}\\left(x_n+y_n\\right)^2\\\\\n",
    "&= \\frac{1}{2}[x_n^2+y_n^2-(x_n^2+y_n^2+2x_ny_n] = -x_ny_n = f(x_n,y_n) \\\\\n",
    "\\end{aligned}"
   ]
  },
  {
   "cell_type": "markdown",
   "id": "5a6352e0-75e1-4c1b-9483-0c1e9b6bd105",
   "metadata": {},
   "source": [
    "\\begin{aligned}\n",
    "&\\frac{1}{2}\\left(x^2+y^2\\right)+\\frac{1}{2}\\left(x_n+y_n\\right)^2-\\left(x_n+y_n\\right)(x+y)+xy \\\\\n",
    "=&\\frac{1}{2}(x^2+y^2+2xy)+\\frac{1}{2}\\left(x_n+y_n\\right)^2-\\left(x_n+y_n\\right)(x+y) \\\\\n",
    "=&\\frac{1}{2}{(x+y)}^2+\\frac{1}{2}\\left(x_n+y_n\\right)^2-\\left(x_n+y_n\\right)(x+y)\\\\\n",
    "=&\\frac{1}{2}[(x+y)-(x_n+y_n)]^2 \\geq 0\\\\\n",
    "\\Rightarrow & \\frac{1}{2}\\left(x^2+y^2\\right)+\\frac{1}{2}\\left(x_n+y_n\\right)^2-\\left(x_n+y_n\\right)(x+y)  \\geq -xy\n",
    "\\end{aligned}"
   ]
  },
  {
   "cell_type": "markdown",
   "id": "1ef9b880-030d-4e66-9c2b-5a9dc43d1446",
   "metadata": {},
   "source": [
    "**(28)**&#8193;Let $f(x)$ be nondecreasing and $g(\\boldsymbol{x})$ be concave. Demonstrate the majorization\n",
    "$$\n",
    "f[g(\\boldsymbol{x})] \\leq f\\left[g\\left(\\boldsymbol{x}_n\\right)+d g\\left(\\boldsymbol{x}_n\\right)\\left(\\boldsymbol{x}-\\boldsymbol{x}_n\\right)\\right]\n",
    "$$"
   ]
  },
  {
   "cell_type": "markdown",
   "id": "a50d9a69-d38d-48e3-97a0-2cd48d25793b",
   "metadata": {},
   "source": [
    "$\\textit{Solution}$:  \n",
    "When $x=x_n$,\n",
    "$$\n",
    "f\\left[g\\left(\\boldsymbol{x}_n\\right)+d g\\left(\\boldsymbol{x}_n\\right)\\left(\\boldsymbol{x}-\\boldsymbol{x}_n\\right)\\right] =f\\left[g\\left(\\boldsymbol{x}_n\\right)+d g\\left(\\boldsymbol{x}_n\\right)\\left(\\boldsymbol{x_n}-\\boldsymbol{x}_n\\right)\\right]=f[g(x)]\n",
    "$$\n",
    "since g(x) is concave,\n",
    "$$\n",
    "g(y) \\leq g(x)+g^{\\prime}(x)[y-x]\n",
    "$$\n",
    "So we can have,\n",
    "$$\n",
    "g(x) \\leq g(x_n)+g^{\\prime}(x_n)[x-x_n]\n",
    "$$\n",
    "Further because $f(x)$ is nondecreasing,\n",
    "$$\n",
    "f[g(\\boldsymbol{x})] \\leq f\\left[g\\left(\\boldsymbol{x}_n\\right)+d g\\left(\\boldsymbol{x}_n\\right)\\left(\\boldsymbol{x}-\\boldsymbol{x}_n\\right)\\right]\n",
    "$$"
   ]
  },
  {
   "cell_type": "markdown",
   "id": "5322e07b-a2ca-48e9-bfdc-73e279f5d8cb",
   "metadata": {},
   "source": [
    "**(29)**&#8193;Suppose $f(x)$ is concave and differentiable. Verify the majorization\n",
    "$$\n",
    "f[g(\\boldsymbol{x})] \\leq f\\left[g\\left(\\boldsymbol{x}_n\\right)\\right]+f^{\\prime}\\left[g\\left(\\boldsymbol{x}_n\\right)\\right]\\left[g(\\boldsymbol{x})-g\\left(\\boldsymbol{x}_n\\right)\\right]\n",
    "$$"
   ]
  },
  {
   "cell_type": "markdown",
   "id": "06e3570f-24b4-4f44-b57c-8fbfe41bac4e",
   "metadata": {},
   "source": [
    "$\\textit{Solution}$:  \n",
    "When $x=x_n$\n",
    "$$\n",
    "f\\left[g\\left(\\boldsymbol{x}_n\\right)\\right]+f^{\\prime}\\left[g\\left(\\boldsymbol{x}_n\\right)\\right]\\left[g(\\boldsymbol{x})-g\\left(\\boldsymbol{x}_n\\right)\\right]=f\\left[g\\left(\\boldsymbol{x}_n\\right)\\right]+f^{\\prime}\\left[g\\left(\\boldsymbol{x}_n\\right)\\right]\\left[g(\\boldsymbol{x}_n)-g\\left(\\boldsymbol{x}_n\\right)\\right]=f[g(\\boldsymbol{x})]\n",
    "$$\n",
    "$f$ is concave and differentiable, then it is bounded above by its first-order Taylor approximation:\n",
    "$$\n",
    "f(y) \\leq f(x)+f^{\\prime}(x)[y-x]\n",
    "$$\n",
    "set $y = g(x)$, $x=g(x_n)$,\n",
    "$$\n",
    "f[g(\\boldsymbol{x})] \\leq f\\left[g\\left(\\boldsymbol{x}_n\\right)\\right]+f^{\\prime}\\left[g\\left(\\boldsymbol{x}_n\\right)\\right]\\left[g(\\boldsymbol{x})-g\\left(\\boldsymbol{x}_n\\right)\\right]\n",
    "$$"
   ]
  },
  {
   "cell_type": "markdown",
   "id": "4c05b959-98c1-4326-aa9d-581d5c6a4f33",
   "metadata": {},
   "source": [
    "**(30)**&#8193;Suppose $f(x)$ is real and $a$-Lipschitz and $g(\\boldsymbol{x})$ is $b$-Lipschitz. Verify the majorization\n",
    "$$\n",
    "f[g(\\boldsymbol{x})] \\leq f\\left[g\\left(\\boldsymbol{x}_n\\right)\\right]+a b\\left\\|\\boldsymbol{x}-\\boldsymbol{x}_n\\right\\| .\n",
    "$$"
   ]
  },
  {
   "cell_type": "markdown",
   "id": "4016e6e8-3658-4be4-82c7-a4afbb73f7bd",
   "metadata": {},
   "source": [
    "$\\textit{Solution}$: \n",
    "when $x= x_n$,  \n",
    "$$\n",
    "f\\left[g\\left(\\boldsymbol{x}_n\\right)\\right]+a b\\left\\|\\boldsymbol{x_n}\\boldsymbol{x}_n\\right\\|=f\\left[g\\left(\\boldsymbol{x}_n\\right)\\right]+0=f[g(\\boldsymbol{x_n})]\n",
    "$$ \n",
    "$g(x)$ is real and $b$-Lipschitz,so\n",
    "$$\\| g(x)-g(x_n)  \\| \\leq b \\| x-x_n  \\| $$\n",
    "$f(x)$ is real and $a$-Lipschitz,so\n",
    "$$\\| f[g(x)]-f[g(x_n])  \\| \\leq a \\| g(x)-g(x_n)  \\|  \\leq a b\\left\\|\\boldsymbol{x}-\\boldsymbol{x}_n\\right\\| $$\n",
    "when $f[g(x)] > f[g(x_n]$, $$f[g(\\boldsymbol{x})] \\leq f\\left[g\\left(\\boldsymbol{x}_n\\right)\\right]+a b\\left\\|\\boldsymbol{x}-\\boldsymbol{x}_n\\right\\|$$"
   ]
  },
  {
   "cell_type": "markdown",
   "id": "ad131e03-fe7f-45c5-a620-470f184ee355",
   "metadata": {},
   "source": [
    "## Chapter 10"
   ]
  },
  {
   "cell_type": "markdown",
   "id": "a1124614-bdd3-498f-9d2b-30dc52c15a2a",
   "metadata": {},
   "source": [
    "**(1)**&#8193; Rewrite and test either the $k$-means or $k$-nearest neighbors algorithm with $\\ell_1$ distances substituted for $\\ell_2$ distances.  \n",
    "$\\textit{Solution}$:  \n",
    "Rewrite $k$-means algorithm with $\\ell_1$ distances"
   ]
  },
  {
   "cell_type": "code",
   "execution_count": 23,
   "id": "f94b70e2-b997-423b-82ab-8037560b8034",
   "metadata": {},
   "outputs": [
    {
     "name": "stdout",
     "output_type": "stream",
     "text": [
      "[2, 2, 2, 2, 2, 2, 2, 2, 2, 2, 2, 2, 2, 2, 2, 2, 2, 2, 2, 2, 2, 2, 2, 2, 2, 2, 2, 2, 2, 2, 2, 2, 2, 2, 2, 2, 2, 2, 2, 2, 2, 2, 2, 2, 2, 2, 2, 2, 2, 2, 2, 2, 2, 2, 2, 2, 2, 2, 2, 2, 2, 2, 2, 2, 2, 2, 2, 2, 2, 2, 2, 2, 2, 2, 2, 2, 2, 2, 2, 2, 2, 2, 2, 2, 2, 2, 2, 2, 2, 2, 2, 2, 2, 2, 2, 2, 2, 2, 2, 2, 3, 3, 3, 3, 3, 3, 3, 3, 3, 3, 3, 3, 3, 3, 3, 3, 3, 3, 3, 3, 3, 3, 3, 3, 3, 3, 3, 3, 3, 3, 3, 3, 3, 3, 3, 3, 3, 3, 3, 3, 3, 3, 3, 3, 3, 3, 3, 3, 3, 3, 3, 3, 3, 3, 3, 3, 3, 3, 3, 3, 3, 3, 3, 3, 3, 3, 3, 3, 3, 3, 3, 3, 3, 3, 3, 3, 3, 3, 3, 3, 3, 3, 3, 3, 3, 3, 3, 3, 3, 3, 3, 3, 3, 3, 3, 3, 3, 3, 3, 3, 1, 1, 1, 1, 1, 1, 1, 1, 1, 1, 1, 1, 1, 1, 1, 1, 1, 1, 1, 1, 1, 1, 1, 1, 1, 1, 1, 1, 1, 1, 1, 1, 1, 1, 1, 1, 1, 1, 1, 1, 1, 1, 1, 1, 1, 1, 1, 1, 1, 1, 1, 1, 1, 1, 1, 1, 1, 1, 1, 1, 1, 1, 1, 1, 1, 1, 1, 1, 1, 1, 1, 1, 1, 1, 1, 1, 1, 1, 1, 1, 1, 1, 1, 1, 1, 1, 1, 1, 1, 1, 1, 1, 1, 1, 1, 1, 1, 1, 1, 1]\n"
     ]
    }
   ],
   "source": [
    "function kmeans(X::Matrix{T}, class::Vector{Int},k::Integer) where T <: Real\n",
    "    (features, points) = size(X)\n",
    "    (center, members) = (zeros(T, features, k), zeros(Int, k))\n",
    "    switched = true\n",
    "    while switched # iterate until memberships stabilize\n",
    "        fill!(center, zero(T)) # update centers\n",
    "        fill!(members, 0)\n",
    "        for point = 1:points\n",
    "            i = class[point]\n",
    "            center[:, i] = center[:, i] + X[:, point]\n",
    "            members[i] = members[i] + 1\n",
    "        end\n",
    "        for j = 1:k\n",
    "            center[:, j] = center[:, j] / max(members[j], 1)\n",
    "        end\n",
    "        switched = false # update classes\n",
    "        dist = pairwise(Cityblock(), center, X, dims = 2) # distances\n",
    "        for point = 1:points\n",
    "            j = argmin(dist[:, point]) # closest center\n",
    "            if class[point] != j\n",
    "                class[point] = j\n",
    "                switched = true\n",
    "            end\n",
    "        end\n",
    "    end\n",
    "    return (class, center)\n",
    "end\n",
    "\n",
    "k=3;\n",
    "X = randn(100, 300);\n",
    "X[:, 101:200] = X[:, 101:200] .+ 1.0;\n",
    "X[:, 201:300] = X[:, 201:300] .+ 2.0;\n",
    "class = rand(1:k, 300); # k classes randomly assigned\n",
    "(class, center) = kmeans(X, class, k);\n",
    "println(class)"
   ]
  },
  {
   "cell_type": "markdown",
   "id": "63517701-1d7e-4adb-8e14-ca3460b744f8",
   "metadata": {},
   "source": [
    "**(7)**&#8193;Demonstrate that it is impossible to situate $c+1$ points in $\\mathbb{R}^{c-1}$ so that all pairs of points are equidistant under the Euclidean norm.  "
   ]
  },
  {
   "cell_type": "markdown",
   "id": "23865631-2b35-455d-8250-4b950f7fbaa9",
   "metadata": {},
   "source": [
    "$\\textit{Solution}$:  \n",
    "If three distinct points $v_a, v_b, v_c$ are mutually separated by the same distance $d$, then the law of cosines says that\n",
    "$$\n",
    "\\begin{aligned}\n",
    "\\left\\|v_b-v_c\\right\\|^2 &=\\left\\|\\left(v_a-v_c\\right)-\\left(v_a-v_b\\right)\\right\\|^2 \\\\\n",
    "&=\\left\\|v_a-v_c\\right\\|^2+\\left\\|v_a-v_b\\right\\|^2-2\\left(v_a-v_c\\right) \\cdot\\left(v_a-v_b\\right) \\\\\n",
    "d^2 &=d^2+d^2-2\\left(v_a-v_c\\right) \\cdot\\left(v_a-v_b\\right) \\\\\n",
    "d^2 &=2\\left(v_a-v_c\\right) \\cdot\\left(v_a-v_b\\right) \\\\\n",
    "\\frac{d^2}{2} &=\\left(v_a-v_c\\right) \\cdot\\left(v_a-v_b\\right)\n",
    "\\end{aligned}\n",
    "$$\n",
    "If $m$ points are all equidistant, then the differences between one point and the rest are all linearly-independent vectors.  \n",
    "i.e If $\\left\\{v_1, \\ldots, v_m\\right\\}$ are all equidistant, and we pick any one of those points $v_i$, then the set of differences $V_i \\equiv\\left\\{\\left(v_i-v_j\\right): j \\neq i\\right\\}$ consists of $m-1$ linearly-independent vectors. \n",
    "To prove this:\n",
    "Suppose we have $\\left\\{v_1, \\ldots, v_m\\right\\}$ equidistant points. Pick any one of them to be $v_a$, and assume we have coefficients $\\alpha_i$ such that:\n",
    "$$\n",
    "0=\\sum_{j \\neq a} \\alpha_j\\left(v_a-v_j\\right)\n",
    "$$\n",
    "Pick any $v_k \\neq v_a$ and time both sides by $\\left(v_a-v_k\\right)$\n",
    "$$\n",
    "0=\\sum_{j \\neq a} \\alpha_j\\left(v_a-v_j\\right) \\cdot\\left(v_a-v_k\\right)\n",
    "$$\n",
    "$$\n",
    "0=\\alpha_k\\left(v_a-v_k\\right) \\cdot\\left(v_a-v_k\\right)+\\sum_{j \\neq a, k} \\alpha_j\\left(v_a-v_j\\right) \\cdot\\left(v_a-v_k\\right)\n",
    "$$\n",
    "where $\\left\\|v_a-v_k\\right\\|^2=d^2$, and $\\left(v_a-v_j\\right) \\cdot\\left(v_a-v_k\\right)=d^2 / 2$ for $j \\neq a, k$, as showed before. So we have\n",
    "$$\n",
    "\\begin{gathered}\n",
    "0=\\alpha_k d^2+\\frac{1}{2} \\sum_{j \\neq a, k} \\alpha_j d^2 \\\\\n",
    "0=2 \\alpha_k+\\sum_{j \\neq a, k} \\alpha_j \\\\\n",
    "0=\\alpha_k+\\sum_{j \\neq a} \\alpha_j\n",
    "\\end{gathered}\n",
    "$$\n",
    "Note that this result holds for any $k \\neq a$; hence we can sum this result over all values of $k \\neq a$. If we do, we get $0=\\sum_{k \\neq a}\\left(\\alpha_k+\\sum_j \\alpha_j\\right)=(m-1) \\sum_{j \\neq a} \\alpha_j$. Hence the coefficients sum to zero.\n",
    "And because this statement holds for any $k \\neq a$, we have that\n",
    "$$\n",
    "\\alpha_k+\\sum_{j \\neq a} \\alpha_j=\\alpha_{k^{\\prime}}+\\sum_{j \\neq a} \\alpha_j\n",
    "$$\n",
    "or just $\\alpha_k=\\alpha_{k^{\\prime}}$. Hence all coefficients are equal. We therefore conclude that all coefficients are zero, showing that the $\\left(v_a-v_j\\right)$ are linearly-independent.\n",
    "\n",
    "\n",
    "$\\mathbb{R}^{c-1}$ can contain at most $c-1$ linearly-independent vectors.As showed before, if we have $m$ equidistant points, their differences consistute $m-1$ linearly-independent vectors. Hence $m-1 \\leq c-1$, or $m \\leq c$.  \n",
    "So it is impossible to situate $c+1$ equidistant points in $\\mathbb{R}^{c-1}$.\n",
    " "
   ]
  },
  {
   "cell_type": "markdown",
   "id": "b892d34e-9bd5-4eb9-ae58-9344d6b3f76e",
   "metadata": {},
   "source": [
    "**(15)**&#8193;Let $\\operatorname{Pos}_n$ denote the set of $n \\times n$ positive semidefinite matrices. Find the Euclidean projection mapping an $n \\times n$ symmetric matrix $\\boldsymbol{X}$ onto Pos$_n$"
   ]
  },
  {
   "cell_type": "markdown",
   "id": "5a46ae63-4073-418b-a85e-3b65a159a576",
   "metadata": {},
   "source": [
    "$\\textit{Solution}$:  \n",
    "Try spectral norm here  \n",
    "Let $X=\\sum_{i=1}^n \\lambda_i v_i v_i^T$ be the eigenvalue decomposition of matrix $X$ with $\\lambda_1 \\geq \\lambda_2 \\geq \\cdots \\geq \\lambda_n$. Assume $\\lambda_n<0$, as otherwise the projection of $X_0$ onto positive semidefinite cone would be itself. Then we have\n",
    "$$\n",
    "v_i^T X v_i=\\sum_{j=1}^n \\lambda_i v_i^T v_j v_j^T v_i=\\lambda_i\n",
    "$$\n",
    "and\n",
    "$$\n",
    "\\left\\|X\\right\\|_2=\\max \\left\\{\\lambda_1,-\\lambda_n\\right\\}=\\max \\left\\{v_1^T X v_1,-v_n^T X v_n\\right\\}=\\max \\left\\{\\sup _{\\|v\\|_2=1} v^T X v,-\\inf _{\\|v\\|_2=1} v^T X v\\right\\}\n",
    "$$\n",
    "Now let $X$ be any symmetric positive semidefinite matrix. We have\n",
    "$$\n",
    "\\left\\|X_0-X\\right\\|_2 \\geq \\sup _{\\|v\\|_2=1} v^T\\left(X_0-X\\right) v \\geq v_n^T\\left(X_0-X\\right) v_n=v_n^T X_0 v_n-v_n^T X v_n \\geq-\\lambda_n\n",
    "$$\n",
    "Now if we define $X_0=\\sum_{i=1}^n \\max \\left\\{\\lambda_i, 0\\right\\} v_i v_i^T$, we have $\\left\\|X_0-X\\right\\|_2=-\\lambda_n$. Therefore, the defined matrix $X_0$ is the projection of $X$ onto positive semidefinite cone."
   ]
  }
 ],
 "metadata": {
  "kernelspec": {
   "display_name": "Julia 1.8.1",
   "language": "julia",
   "name": "julia-1.8"
  },
  "language_info": {
   "file_extension": ".jl",
   "mimetype": "application/julia",
   "name": "julia",
   "version": "1.8.1"
  }
 },
 "nbformat": 4,
 "nbformat_minor": 5
}
