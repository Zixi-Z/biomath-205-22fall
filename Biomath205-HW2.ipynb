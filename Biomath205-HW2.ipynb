{
 "cells": [
  {
   "cell_type": "markdown",
   "id": "d6b1866f",
   "metadata": {},
   "source": [
    "<h2 align = \"center\">Biomath 205 HW2</h2>\n",
    "<h2 align = \"center\">Zixi Zhang</h2>"
   ]
  },
  {
   "cell_type": "markdown",
   "id": "ad32fbd9",
   "metadata": {},
   "source": [
    "## Chapter05"
   ]
  },
  {
   "cell_type": "markdown",
   "id": "56d8b33a",
   "metadata": {},
   "source": [
    "**(7)**&#8193;Find by hand the Cholesky decomposition of the matrix \n",
    "$$ A = \\begin{pmatrix}\n",
    "2 & -2 \\\\\n",
    "    -2 & {5}\\end{pmatrix}$$"
   ]
  },
  {
   "cell_type": "markdown",
   "id": "e309bccb",
   "metadata": {},
   "source": [
    "$\\textit{Solution}$: By defination  \n",
    "$$A = L \\cdot L^T$$  \n",
    "Let $A = \\begin{pmatrix}\n",
    "a_{11} & a_{12} \\\\\n",
    "a_{21} & a_{22}\\end {pmatrix}$, and $L = \\begin{pmatrix}\n",
    "b_{11} & 0 \\\\\n",
    "b_{21} & b_{22}\\end{pmatrix}$, then\n"
   ]
  },
  {
   "cell_type": "markdown",
   "id": "ac72560e",
   "metadata": {},
   "source": [
    "$$\\begin{align*}\n",
    "L \\cdot L^T\n",
    "&= \\begin{pmatrix}\n",
    "b_{11} & 0 \\\\\n",
    "b_{21} & b_{22}\n",
    "\\end{pmatrix}\n",
    "\\cdot\n",
    "\\begin{pmatrix}\n",
    "b_{11} & b_{21} \\\\\n",
    "0 & b_{22}\n",
    "\\end{pmatrix}\\\\\n",
    "&= \\begin{pmatrix}\n",
    "(b_{11})^2 & b_{11} \\cdot b_{21} \\\\\n",
    "b_{11} \\cdot b_{21} & (b_{21})^2+(b_{22})^2\n",
    "\\end{pmatrix}\n",
    "\\end{align*}$$\n"
   ]
  },
  {
   "cell_type": "markdown",
   "id": "288d564b",
   "metadata": {},
   "source": [
    "So we can get  \n",
    "$$\\begin{pmatrix}\n",
    "(b_{11})^2 & b_{11} \\cdot b_{21} \\\\\n",
    "b_{11} \\cdot b_{21} & (b_{21})^2+\\left(b_{22}\\right)^2\n",
    "\\end{pmatrix} = \\begin{pmatrix}\n",
    "a_{11} & a_{12} \\\\\n",
    "a_{21} & a_{22}\\end{pmatrix}$$"
   ]
  },
  {
   "cell_type": "markdown",
   "id": "9311ff7c",
   "metadata": {},
   "source": [
    "Here, $ A =\\begin{pmatrix}\n",
    "2 & -2 \\\\\n",
    "-2 & {5}\\end{pmatrix}$"
   ]
  },
  {
   "cell_type": "markdown",
   "id": "2261be81",
   "metadata": {},
   "source": [
    "So,\n",
    "$$\n",
    "(b_{11})^2 = 2\\\\  \n",
    "b_{11} \\cdot b_{21} = -2\\\\\n",
    "(b_{11})^2 + (b_{22})^2 =5\n",
    "$$"
   ]
  },
  {
   "cell_type": "markdown",
   "id": "e6407131",
   "metadata": {},
   "source": [
    "$$b_{11} = \\sqrt{2} \\\\\n",
    "b_{21} = -\\sqrt{2}\\\\\n",
    "b_{22} = \\sqrt{3}\\\\\n",
    "$$"
   ]
  },
  {
   "cell_type": "markdown",
   "id": "cb27c313",
   "metadata": {},
   "source": [
    "$$L = \\begin{pmatrix}\n",
    "\\sqrt{2} & 0 \\\\\n",
    "-\\sqrt{2} & \\sqrt{3}\\end{pmatrix}$$"
   ]
  },
  {
   "cell_type": "markdown",
   "id": "9337c3d7",
   "metadata": {},
   "source": [
    "**(13)**&#8193;Find the QR decomposition of the matrix  \n",
    "$$\\begin{pmatrix} 1&3&3\\\\\n",
    "1 & 3 & 1\\\\\n",
    "1 & 1 & 5\\\\\n",
    "1 & 1& 3 \\end{pmatrix}$$\n",
    "by the Gram–Schmidt process."
   ]
  },
  {
   "cell_type": "markdown",
   "id": "9a649797",
   "metadata": {},
   "source": [
    "$\\textit{Solution}$:\n",
    "$\\overrightarrow{\\mathbf{v_1}}=\\left(\\begin{array}{c}\n",
    "1 \\\\\n",
    "1 \\\\\n",
    "1 \\\\\n",
    "1\n",
    "\\end{array}\\right), \\overrightarrow{\\mathbf{v_2}}=\\left(\\begin{array}{l}\n",
    "3 \\\\\n",
    "3 \\\\\n",
    "1 \\\\\n",
    "1\n",
    "\\end{array}\\right), \\overrightarrow{\\mathbf{v_3}}=\\left(\\begin{array}{c}\n",
    "3 \\\\\n",
    "1 \\\\\n",
    "5 \\\\\n",
    "3\n",
    "\\end{array}\\right)$"
   ]
  },
  {
   "cell_type": "markdown",
   "id": "06abf5b1",
   "metadata": {},
   "source": [
    "According to the Gram-Schmidt process, $\\overrightarrow{\\mathbf{u}_{\\mathbf{k}}}=\\overrightarrow{\\mathbf{v}_{\\mathbf{k}}}-\\sum_{j=1}^{k-1} \\operatorname{proj}_{\\overrightarrow{\\mathbf{u}}_{\\mathbf{j}}}\\left(\\overrightarrow{\\mathbf{v}_{\\mathbf{k}}}\\right)$, where $\\operatorname{proj}_{\\overrightarrow{\\mathbf{u}}_{\\mathbf{j}}}\\left(\\overrightarrow{\\mathbf{v}_{\\mathbf{k}}}\\right)=$ $\\frac{\\overrightarrow{\\mathbf{u}_j} \\cdot \\overrightarrow{\\mathbf{v}_{\\mathbf{k}}}}{\\left|\\overrightarrow{\\mathbf{u}_{\\mathbf{j}}}\\right|^2} \\overrightarrow{\\mathbf{u}_{\\mathbf{j}}}$ is a vector projection."
   ]
  },
  {
   "cell_type": "markdown",
   "id": "78f452b1",
   "metadata": {},
   "source": [
    "$\\text { The normalized vector is } \\overrightarrow{\\mathbf{e}_{\\mathbf{k}}}=\\frac{\\overrightarrow{\\mathbf{u}_{\\mathbf{k}}}}{\\left|\\overrightarrow{\\mathbf{u}_{\\mathbf{k}}}\\right|}$"
   ]
  },
  {
   "cell_type": "markdown",
   "id": "1ad04ef3",
   "metadata": {},
   "source": [
    "$\\overrightarrow{\\mathbf{u}_1}=\\overrightarrow{\\mathbf{v}_1}=\\left(\\begin{array}{c}\n",
    "1 \\\\\n",
    "1 \\\\\n",
    "1 \\\\\n",
    "1\n",
    "\\end{array}\\right) , \\quad \n",
    " \\overrightarrow{|\\mathbf{u_1}|}=\\sqrt{\\sum_{i=1}^n\\left|u_i\\right|^2}=2 , \\quad \n",
    "\\overrightarrow{\\mathbf{e}_{\\mathbf{1}}}=\\frac{\\overrightarrow{\\mathbf{u}_{\\mathbf{1}}}}{\\left|\\overrightarrow{\\mathbf{u}_{\\mathbf{1}}}\\right|} = \\left(\\begin{array}{c}\n",
    "\\frac{1}{2} \\\\\n",
    "\\frac{1}{2} \\\\\n",
    "\\frac{1}{2} \\\\\n",
    "\\frac{1}{2}\n",
    "\\end{array}\\right)\n",
    "$"
   ]
  },
  {
   "cell_type": "markdown",
   "id": "468c6c96",
   "metadata": {},
   "source": [
    "$\\operatorname{proj}_{\\overrightarrow{\\mathbf{u_1}}}(\\overrightarrow{\\mathbf{v_2}})=\\frac{\\overrightarrow{\\mathbf{v_2}} \\cdot \\overrightarrow{\\mathbf{u_1}}}{|\\overrightarrow{\\mathbf{u_1}}|^2} \\overrightarrow{\\mathbf{u_1}} = \\frac{8}{2^2} \\cdot \\left(\\begin{array}{c}\n",
    "1 \\\\\n",
    "1 \\\\\n",
    "1 \\\\\n",
    "1\\end{array}\\right) = \n",
    "\\left(\\begin{array}{c}\n",
    "2 \\\\\n",
    "2 \\\\\n",
    "2 \\\\\n",
    "2\\end{array}\\right)$"
   ]
  },
  {
   "cell_type": "markdown",
   "id": "b95d6233",
   "metadata": {},
   "source": [
    "$\\overrightarrow{\\mathbf{u}_{\\mathbf{2}}}=\\overrightarrow{\\mathbf{v}_{\\mathbf{2}}}-\\operatorname{proj}_{\\overrightarrow{\\mathbf{u}_1}}\\left(\\overrightarrow{\\mathbf{v}_{\\mathbf{2}}}\\right)=\n",
    "\\left(\\begin{array}{c}\n",
    "3 \\\\\n",
    "3 \\\\\n",
    "1 \\\\\n",
    "1 \\end{array}\\right)-\n",
    "\\left(\\begin{array}{c}\n",
    "2 \\\\\n",
    "2 \\\\\n",
    "2 \\\\\n",
    "2 \\end{array}\\right)=\n",
    "\\left(\\begin{array}{c}\n",
    "1 \\\\\n",
    "1 \\\\\n",
    "-1 \\\\\n",
    "-1\n",
    "\\end{array}\\right), \\quad \\overrightarrow{\\mathbf{e}_2}=\\frac{\\overrightarrow{\\mathbf{u}_2}}{\\left|\\overrightarrow{\\mathbf{u}_2}\\right|}=\\left(\\begin{array}{c}\n",
    "\\frac{1}{2} \\\\\n",
    "\\frac{1}{2} \\\\\n",
    "-\\frac{1}{2} \\\\\n",
    "-\\frac{1}{2}\n",
    "\\end{array}\\right)$"
   ]
  },
  {
   "cell_type": "markdown",
   "id": "75a99f12",
   "metadata": {},
   "source": [
    "$\\operatorname{proj}_{\\overrightarrow{\\mathbf{u_1}}}(\\overrightarrow{\\mathbf{v_3}})=\\frac{\\overrightarrow{\\mathbf{v_3}} \\cdot \\overrightarrow{\\mathbf{u_1}}}{|\\overrightarrow{\\mathbf{u_1}}|^2} \\overrightarrow{\\mathbf{u_1}} = \\frac{12}{2^2} \\cdot \\left(\\begin{array}{c}\n",
    "1 \\\\\n",
    "1 \\\\\n",
    "1 \\\\\n",
    "1\\end{array}\\right) = \n",
    "\\left(\\begin{array}{c}\n",
    "3 \\\\\n",
    "3 \\\\\n",
    "3 \\\\\n",
    "3\\end{array}\\right), \\quad  \\operatorname{proj}_{\\overrightarrow{\\mathbf{u_1}}}(\\overrightarrow{\\mathbf{v_3}})=\\frac{\\overrightarrow{\\mathbf{v_3}} \\cdot \\overrightarrow{\\mathbf{u_2}}}{|\\overrightarrow{\\mathbf{u_2}}|^2} \\overrightarrow{\\mathbf{u_2}} = \\frac{-4}{2^2} \\cdot \\left(\\begin{array}{c}\n",
    "1 \\\\\n",
    "1 \\\\\n",
    "-1 \\\\\n",
    "-1\\end{array}\\right) = \n",
    "\\left(\\begin{array}{c}\n",
    "-1 \\\\\n",
    "-1 \\\\\n",
    "1 \\\\\n",
    "1\\end{array}\\right)$"
   ]
  },
  {
   "cell_type": "markdown",
   "id": "7c46310e",
   "metadata": {},
   "source": [
    "$\\overrightarrow{\\mathbf{u}_3}=\\overrightarrow{\\mathbf{v}}_3-\\operatorname{proj}_{\\overrightarrow{\\mathbf{u}_1}}\\left(\\overrightarrow{\\mathbf{v}_3}\\right)-\\operatorname{proj}_{\\overrightarrow{\\mathbf{u}_2}}\\left(\\overrightarrow{\\mathbf{v}_3}\\right)=\n",
    "\\left(\\begin{array}{c}\n",
    "3 \\\\\n",
    "1 \\\\\n",
    "5 \\\\\n",
    "3\n",
    "\\end{array}\\right) - \\left(\\begin{array}{c}\n",
    "3 \\\\\n",
    "3 \\\\\n",
    "3 \\\\\n",
    "3\n",
    "\\end{array}\\right) -\\left(\\begin{array}{c}\n",
    "-1 \\\\\n",
    "-1 \\\\\n",
    "1 \\\\\n",
    "1\n",
    "\\end{array}\\right)=\n",
    "\\left(\\begin{array}{c}\n",
    "1 \\\\\n",
    "-1 \\\\\n",
    "1 \\\\\n",
    "-1\n",
    "\\end{array}\\right), \\quad \\overrightarrow{\\mathbf{e}_3}=\\frac{\\overrightarrow{\\mathbf{u}_3}}{\\left|\\overrightarrow{\\mathbf{u}_3}\\right|}=\\left(\\begin{array}{c}\n",
    "\\frac{1}{2} \\\\\n",
    "-\\frac{1}{2} \\\\\n",
    "\\frac{1}{2} \\\\\n",
    "-\\frac{1}{2}\n",
    "\\end{array}\\right)$"
   ]
  },
  {
   "cell_type": "markdown",
   "id": "5612e203",
   "metadata": {},
   "source": [
    "So, $Q = \\begin{pmatrix} \\frac{1}{2} & \\frac{1}{2} & \\frac{1}{2} \\\\\n",
    "\\frac{1}{2} & \\frac{1}{2} & -\\frac{1}{2}\\\\\n",
    "\\frac{1}{2} & -\\frac{1}{2} & \\frac{1}{2}\\\\\n",
    "\\frac{1}{2} & -\\frac{1}{2} & -\\frac{1}{2} \\end{pmatrix}$, $\\quad$ $Q^T =\\begin{pmatrix} \\frac{1}{2} & \\frac{1}{2} & \\frac{1}{2} & \\frac{1}{2} \\\\\n",
    "\\frac{1}{2} & \\frac{1}{2} & -\\frac{1}{2} & -\\frac{1}{2}\\\\\n",
    "\\frac{1}{2} & -\\frac{1}{2} & \\frac{1}{2} & -\\frac{1}{2} \\end{pmatrix}$"
   ]
  },
  {
   "cell_type": "code",
   "execution_count": 6,
   "id": "25fbbce1",
   "metadata": {},
   "outputs": [
    {
     "data": {
      "text/plain": [
       "3×3 Matrix{Float64}:\n",
       " 2.0  4.0   6.0\n",
       " 0.0  2.0  -2.0\n",
       " 0.0  0.0   2.0"
      ]
     },
     "metadata": {},
     "output_type": "display_data"
    }
   ],
   "source": [
    "R = [1/2 1/2 1/2 1/2; 1/2 1/2 -1/2 -1/2; 1/2 -1/2 1/2 -1/2]*[1 3 3; 1 3 1; 1 1 5; 1 1 3]"
   ]
  },
  {
   "cell_type": "markdown",
   "id": "3a53a585",
   "metadata": {},
   "source": [
    "$R = \\begin{pmatrix} \\frac{1}{2} & \\frac{1}{2} & \\frac{1}{2} & \\frac{1}{2} \\\\\n",
    "\\frac{1}{2} & \\frac{1}{2} & -\\frac{1}{2} & -\\frac{1}{2}\\\\\n",
    "\\frac{1}{2} & -\\frac{1}{2} & \\frac{1}{2} & -\\frac{1}{2} \\end{pmatrix} \\cdot \\begin{pmatrix} 1&3&3\\\\\n",
    "1 & 3 & 1\\\\\n",
    "1 & 1 & 5\\\\\n",
    "1 & 1& 3 \\end{pmatrix} = \\begin{pmatrix} 2 & 4 & 6 \\\\\n",
    "0 & 2 & -2\\\\\n",
    "0 & 0 & 2\\end{pmatrix}$"
   ]
  },
  {
   "cell_type": "markdown",
   "id": "a5629a31",
   "metadata": {},
   "source": [
    "**(15)**&#8193;If $X =QR$ is the QR decomposition of X, then show that the projection matrix\n",
    "$$ X(X^*X)^{-1}X^* = QQ^* $$\n",
    "Also show that $|det X| = | det R| $when $X$ is square and in general that$$\n",
    "det(X^*X) =(detR)^2$$"
   ]
  },
  {
   "cell_type": "markdown",
   "id": "f8c9ce24",
   "metadata": {},
   "source": [
    "$\\textit{Solution}:$ $X =QR$, so\n",
    "$$X^*X = R^*Q^*QR = R^*R \\\\$$\n",
    "$$(Q^*Q = I  \\textrm{ as Q has orthogonal columns)}$$\n"
   ]
  },
  {
   "cell_type": "markdown",
   "id": "a28abace",
   "metadata": {},
   "source": [
    "\\begin{align*}\n",
    "X(X^*X)^{-1}X^* &= X(R^*R)^{-1}X^*\\\\\n",
    "&=QR(R^*R)^{-1}R^*Q^*\\\\\n",
    "&= QRR^{-1}R^{-*} R^*Q^*\\\\\n",
    "&= QQ^*\n",
    "\\end{align*}"
   ]
  },
  {
   "cell_type": "markdown",
   "id": "cb0e9f42",
   "metadata": {},
   "source": [
    "Since $X =QR$, $$|detX| =|detQR|=|detQ||detR|$$ \n",
    "When $X$ is square, $Q$ is an orthogonal matrix, we can get $$|detQ|=\\sqrt{(detQ)^2 }= \\sqrt{(detQ^*)(detQ)}= \\sqrt{(detQ^*Q)}=\\sqrt{detI }=\\sqrt{1}=1$$\n",
    "so,$$|detX| = |detR|$$"
   ]
  },
  {
   "cell_type": "markdown",
   "id": "5af7ea79",
   "metadata": {},
   "source": [
    "In general,\n",
    "$$det(X^*X) = det((QR)^*QR) = det(R^*Q^*QR) = det (R^*R)=(detR)^2\n",
    "$$\n"
   ]
  },
  {
   "cell_type": "markdown",
   "id": "6ad284d3-f0e8-4fd7-bb6a-b3fc88e12af7",
   "metadata": {},
   "source": [
    "## Chapter06"
   ]
  },
  {
   "cell_type": "markdown",
   "id": "9709fcf4-bada-4624-b0e9-f521d8826bdb",
   "metadata": {},
   "source": [
    "**(1)**&#8193;On a one-dimensional problem of your choice, implement Newton's method. Check your result using the fzero function of the Julia package Roots.jl."
   ]
  },
  {
   "cell_type": "markdown",
   "id": "4b276642-ce3e-4248-b6bc-49a94194f424",
   "metadata": {},
   "source": [
    "$\\textit{Solution:  }  \\text{choose }$ $$f(x) = e^x - x^4$$\n",
    "$$f'(x)=e^x - 4x^3$$\n",
    "\\begin{align*}\n",
    "g(x)&= x − \\frac{f(x)}{f′(x)}\\\\\n",
    "&= x- \\frac{ e^x - x^4}{e^x - 4x^3}\n",
    "\\end{align*}"
   ]
  },
  {
   "cell_type": "code",
   "execution_count": 7,
   "id": "2fc78128-d16f-4eeb-b92d-a25548ab23be",
   "metadata": {},
   "outputs": [
    {
     "data": {
      "text/plain": [
       "(1.4296118247255556, 6)"
      ]
     },
     "metadata": {},
     "output_type": "display_data"
    }
   ],
   "source": [
    "function newton(f::Function, fp::Function, x::Real, tol::Real)\n",
    "    (xold, xnew) = (x, zero(x))\n",
    "    for iteration = 1:100\n",
    "        xnew = xold - f(xold) / fp(xold)\n",
    "        if abs(f(xnew)) < tol\n",
    "            return (xnew, iteration)\n",
    "            end\n",
    "        xold = xnew\n",
    "    end\n",
    "    return (xnew, 100)\n",
    "end\n",
    "f(x) = exp(x) - x^4\n",
    "fp(x) = exp(x) - 4x^3\n",
    "(x, iterations) = newton(f, fp, 2, 1e-14)\n",
    "(x, iterations)"
   ]
  },
  {
   "cell_type": "markdown",
   "id": "11d7f98d-3022-4845-93ad-3d07df7c4dfb",
   "metadata": {},
   "source": [
    "The root $x = 1.4296118247255556$ is found in is found in $7$ iterations to the given tolerance."
   ]
  },
  {
   "cell_type": "code",
   "execution_count": 8,
   "id": "d39ee1e5-5c39-4c40-9bc6-2c45fd860b43",
   "metadata": {},
   "outputs": [
    {
     "data": {
      "text/plain": [
       "(1.4296118247255556, true)"
      ]
     },
     "metadata": {},
     "output_type": "display_data"
    }
   ],
   "source": [
    "#check the result\n",
    "using Roots\n",
    "f(x) = exp(x) - x^4\n",
    "x1 = find_zero(f, (0, 4), Bisection())\n",
    "(x1,x1 == x)"
   ]
  },
  {
   "cell_type": "markdown",
   "id": "c5cd75f3-084c-4fbb-97f9-40a619023468",
   "metadata": {},
   "source": [
    "**(2)**&#8193;Write a Julia program to solve Lambert's equation $w e^w=x$ by Newton's method for $x>0$. Prove that the iterates are defined by\n",
    "$$\n",
    "w_{n+1}=w_n \\frac{w_n+\\frac{x}{w_n e^{w_n}}}{w_n+1} .\n",
    "$$\n",
    "Make the argument that $w_{n+1}>w_n$ when $w_n e^{w_n}<x$ and that $w_{n+1}<w_n$ when $w_n e^{w_n}>x$"
   ]
  },
  {
   "cell_type": "markdown",
   "id": "0694c175-65c7-425e-8596-26877aa28edf",
   "metadata": {},
   "source": [
    "$\\textit{Solution}:$  \n",
    "\\begin{align*}\n",
    "f(w)&=w e^w - x\\\\\n",
    "f'(w)&=w e^w +e^w\\\\\n",
    "w_{n+1}&=w_n - \\frac{f\\left(w_n\\right)}{f^{\\prime}\\left(w_n\\right)}\\\\\n",
    "&= w_n-\\frac{w_n e^{w_n} - x}{w_n e^{w_n} +e^{w_n}}\\\\\n",
    "&= w_n(1-\\frac{e^{w_n} - \\frac{x}{w_n}}{w_n e^{w_n} +e^{w_n}})\\\\\n",
    "&= w_n(\\frac{{w_n e^{w_n} +e^{w_n}}}{{w_n e^{w_n} +e^{w_n}}}-\\frac{e^{w_n} - \\frac{x}{w_n}}{w_n e^{w_n} +e^{w_n}})\\\\\n",
    "&= w_n(\\frac{w_ne^{w_n}+\\frac{x}{w_n}}{w_n e^{w_n} +e^{w_n}})\\\\\n",
    "&=w_n \\frac{w_n+\\frac{x}{w_n e^{w_n}}}{w_n+1}\n",
    "\\end{align*}"
   ]
  },
  {
   "cell_type": "markdown",
   "id": "848fd23a-cc78-47e4-b5bc-85fb28133d4c",
   "metadata": {},
   "source": [
    "$$\\frac{w_{n+1}}{w_n}=\\frac{w_n+\\frac{x}{w_n e^{w_n}}}{w_n+1}$$\n",
    "When $w_n e^{w_n}<x$,\n",
    "\\begin{align*}\n",
    "&\\frac{x}{w_n e^{w_n}} > 1\\\\ \n",
    "\\Rightarrow &w_n+\\frac{x}{w_n e^{w_n}} >w_n +1\\\\\n",
    "\\Rightarrow &\\frac{w_n+\\frac{x}{w_n e^{w_n}}}{w_n+1}>1\\\\\n",
    "\\Rightarrow &\\frac{w_{n+1}}{w_n}>1\\\\\n",
    "\\Rightarrow &w_{n+1}>w_n\n",
    "\\end{align*}\n",
    "Similarly, when $w_n e^{w_n}>x$,\n",
    "\\begin{align*}\n",
    "&\\frac{x}{w_n e^{w_n}} < 1\\\\ \n",
    "\\Rightarrow &w_n+\\frac{x}{w_n e^{w_n}} <w_n +1\\\\\n",
    "\\Rightarrow &\\frac{w_n+\\frac{x}{w_n e^{w_n}}}{w_n+1}<1\\\\\n",
    "\\Rightarrow &\\frac{w_{n+1}}{w_n}<1\\\\\n",
    "\\Rightarrow &w_{n+1}<w_n\n",
    "\\end{align*}"
   ]
  },
  {
   "cell_type": "code",
   "execution_count": 8,
   "id": "3fb7c4ad-d8d5-414f-95e2-2eb0208a403d",
   "metadata": {},
   "outputs": [
    {
     "data": {
      "text/plain": [
       "(0.8526055020137254, 0.8526055020137255)"
      ]
     },
     "execution_count": 8,
     "metadata": {},
     "output_type": "execute_result"
    }
   ],
   "source": [
    "function newtonlambert( x::Real, tol::Real) \n",
    "    x < 0 && error(\" x > 0 required \")\n",
    "    function f(w::Real)\n",
    "        return w*exp(w) - x\n",
    "    end\n",
    "    function fp(w::Real)\n",
    "        return w*exp(w) +exp(w)\n",
    "    end\n",
    "    (xold, xnew) = (3, 0)\n",
    "    for iteration = 1:100\n",
    "        xnew = xold - f(xold) / fp(xold)\n",
    "        if abs(f(xnew)) < tol\n",
    "            return (xnew, iteration)\n",
    "            end\n",
    "        xold = xnew\n",
    "    end\n",
    "    return (xnew, 100)\n",
    "end\n",
    "(w,iterations) = newtonlambert(2,1e-14)\n",
    "#check the result\n",
    "using Roots\n",
    "f(w) = w*exp(w) - x\n",
    "x = 2\n",
    "w1 = find_zero(f, (0, 4), Bisection())\n",
    "(w,w1)"
   ]
  },
  {
   "cell_type": "markdown",
   "id": "f1f455ff-ac7f-4fcb-b731-a620d33b84c2",
   "metadata": {},
   "source": [
    "**(11)**&#8193;For the weighted least squares criterion\n",
    "$$\n",
    "f(\\boldsymbol{\\beta})=\\frac{1}{2} \\sum_{i=1}^n w_i\\left(y_i-\\sum_{j=1}^p x_{i j} \\beta_j\\right)^2\n",
    "$$\n",
    "prove that the minimum is achieved when $\\boldsymbol{\\beta}=\\left(\\boldsymbol{X}^* \\boldsymbol{W} \\boldsymbol{X}\\right)^{-1} \\boldsymbol{X}^* \\boldsymbol{W} \\boldsymbol{y}$, where $\\boldsymbol{W}$ is a diagonal matrix with $i$ th diagonal entry $w_i>0$."
   ]
  },
  {
   "cell_type": "markdown",
   "id": "a0a8ce5e-d8c5-4bc2-8784-2dc2b4b17079",
   "metadata": {},
   "source": [
    "$\\textit{Solution}:$  \n",
    "\\begin{align*}\n",
    "f(\\beta)&=\\frac{1}{2}(\\mathrm{y}-X \\beta)^* W(\\mathrm{y}-\\mathrm{X} \\beta)\\\\\n",
    "&=\\frac{1}{2}\\left(y^* W y-y^* W X \\beta-\\beta^* X^* W y+\\beta^* X^* W X \\beta\\right)\n",
    "\\end{align*}\n",
    "The minimum is achieved when $\\frac{\\partial f(\\beta)}{\\partial \\beta}=0$\n",
    "\\begin{align*}\n",
    "\\frac{\\partial f(\\beta)}{\\partial \\beta} &=-\\frac{1}{2} y^* W X-\\frac{1}{2} y^* W^* X+\\frac{2}{2} X^* W X \\beta \\\\\n",
    "&=-y^* W X + X^* W X \\beta\\\\\n",
    "&=-X^* W y + X^* W X \\beta\n",
    "\\end{align*}\n",
    "Set this to zero,\n",
    "\\begin{align*}\n",
    "&X^* W X \\beta-X^* W y = 0\\\\\n",
    "\\Rightarrow &\\beta = X^* W X^{-1} X^* W y\n",
    "\\end{align*}"
   ]
  },
  {
   "cell_type": "markdown",
   "id": "741b3e4d-8be3-4ba7-8783-a4271b500262",
   "metadata": {},
   "source": [
    "**(12)**&#8193;Demonstrate Woodbury's generalization\n",
    "$$\n",
    "\\left(\\boldsymbol{A}+\\boldsymbol{U} \\boldsymbol{B} \\boldsymbol{V}^*\\right)^{-1}=\\boldsymbol{A}^{-1}-\\boldsymbol{A}^{-1} \\boldsymbol{U}\\left(\\boldsymbol{B}^{-1}+\\boldsymbol{V}^* \\boldsymbol{A}^{-1} \\boldsymbol{U}\\right)^{-1} \\boldsymbol{V}^* \\boldsymbol{A}^{-1}\n",
    "$$\n",
    "of the Sherman-Morrison matrix inversion formula for compatible matrices $\\boldsymbol{A}$, $\\boldsymbol{B}, \\boldsymbol{U}$, and $\\boldsymbol{V}$."
   ]
  },
  {
   "cell_type": "markdown",
   "id": "c0cf6b7c-b527-4bfd-910f-12dde0beb3f5",
   "metadata": {},
   "source": [
    "$\\textit{Solution}:$  \n",
    "Consider block matrix\n",
    "$X=\\left[\\begin{array}{cc}\n",
    "A & U \\\\\n",
    "V^* & -B^{-1}\n",
    "\\end{array}\\right]$, where $A$ is $n \\times n, U$ and $V$ are $n \\times k$, and $B$ is $k \\times k$."
   ]
  },
  {
   "cell_type": "markdown",
   "id": "8dadcba2-7c1d-4cb0-9521-1be72b821672",
   "metadata": {},
   "source": [
    "$$\\left[\\begin{array}{cc}\n",
    "A & U \\\\\n",
    "V^* & -B^{-1}\n",
    "\\end{array}\\right]=\\left[\\begin{array}{cc}\n",
    "I & 0 \\\\\n",
    "V^* A^{-1} & I\n",
    "\\end{array}\\right]\\left[\\begin{array}{cc}\n",
    "A & 0 \\\\\n",
    "0 & -\\left(B^{-1}+V^* A^{-1} U\\right)\n",
    "\\end{array}\\right]\\left[\\begin{array}{cc}\n",
    "I & A^{-1} U \\\\\n",
    "0 & I\n",
    "\\end{array}\\right]$$"
   ]
  },
  {
   "cell_type": "markdown",
   "id": "b3cee0ef-b58d-4653-bb7a-0a659762728f",
   "metadata": {},
   "source": [
    "So,\n",
    "$$\\begin{align*}\n",
    "\\left[\\begin{array}{cc}\n",
    "A & U \\\\\n",
    "V^* & -B^{-1}\n",
    "\\end{array}\\right]^{-1}&=\\left[\\begin{array}{cc}\n",
    "I & -A^{-1} U \\\\\n",
    "0 & I\n",
    "\\end{array}\\right] \\cdot\\left[\\begin{array}{cc}\n",
    "A^{-1} & 0 \\\\\n",
    "0 & -\\left(B^{-1}+V^* A^{-1} U\\right)^{-1}\n",
    "\\end{array}\\right]\\left[\\begin{array}{cc}\n",
    "I & 0 \\\\\n",
    "-V^* A^{-1} & I\n",
    "\\end{array}\\right]\\\\\n",
    "& =\\left[\\begin{array}{cc}\n",
    "A^{-1}-A^{-1} U\\left(B^{-1}+V^* A^{-1} U\\right)^{-1} V^* A^{-1} & A^{-1} U\\left(B^{-1}+V^* A^{-1}U\\right)^{-1} \\\\\n",
    "\\left(B^{-1}+V^* A^{-1} U\\right)^{-1} V^* A^{-1} & -\\left(B^{-1}+V^* A^{-1} U\\right)^{-1}\n",
    "\\end{array}\\right]\n",
    "\\end{align*}$$"
   ]
  },
  {
   "cell_type": "markdown",
   "id": "7f04a890-ae87-4e86-ac95-bdf452ba24e1",
   "metadata": {},
   "source": [
    "Set $ W =\\left[\\begin{array}{ll}\n",
    "0 & I \\\\\n",
    "I & 0\n",
    "\\end{array}\\right]$. So, $W^{-1}=W $"
   ]
  },
  {
   "cell_type": "markdown",
   "id": "af1e472c-4d8c-4c2b-8cd5-30da8b626e82",
   "metadata": {},
   "source": [
    "$$W X W=\\left[\\begin{array}{cc}\n",
    "-B^{-1} & V^* \\\\\n",
    "U & A\n",
    "\\end{array}\\right]$$"
   ]
  },
  {
   "cell_type": "markdown",
   "id": "6c961d6f-5b1e-4de6-82f0-bb3548f3d5d6",
   "metadata": {},
   "source": [
    "$$W X^{-1} W=(W X W)^{-1}=\\left[\\begin{array}{cc}\n",
    "... & ... \\\\\n",
    "... & \\left(A+U B V^*\\right)^{-1}\n",
    "\\end{array}\\right]$$\n",
    "We have $$\\left(A+U B V^*\\right)^{-1} = (X^{-1})_{11} = A^{-1}-A^{-1} U\\left(B^{-1}+V^* A^{-1} U\\right)^{-1} V^* A^{-1}$$\n",
    "i.e $$\\left(A+U B V^*\\right)^{-1} = A^{-1}-A^{-1} U\\left(B^{-1}+V^* A^{-1} U\\right)^{-1} V^* A^{-1}$$"
   ]
  }
 ],
 "metadata": {
  "kernelspec": {
   "display_name": "Julia 1.8.1",
   "language": "julia",
   "name": "julia-1.8"
  },
  "language_info": {
   "file_extension": ".jl",
   "mimetype": "application/julia",
   "name": "julia",
   "version": "1.8.1"
  }
 },
 "nbformat": 4,
 "nbformat_minor": 5
}
