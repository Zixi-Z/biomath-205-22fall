{
 "cells": [
  {
   "cell_type": "markdown",
   "id": "4863468e-aab5-4915-9bf2-2978b494da75",
   "metadata": {},
   "source": [
    "## Chapter 07"
   ]
  },
  {
   "cell_type": "markdown",
   "id": "3542c0cd-e588-4f54-8099-ba98abd2dbad",
   "metadata": {},
   "source": [
    "**(1)**&#8193;Consider the linear program of minimizing $x_1+x_2$ subject to the constraints $x_1+2 x_2 \\geq 3,2 x_1+x_2 \\geq 5$, and $x_2 \\geq 0$. Graph the feasible region, and solve the program by hand or by our Julia code.  \n",
    "$\\textit{Solution}:$  "
   ]
  },
  {
   "cell_type": "code",
   "execution_count": 2,
   "id": "5d61deea-8dda-468d-abf1-20b61c14b8a6",
   "metadata": {},
   "outputs": [
    {
     "ename": "LoadError",
     "evalue": "UndefVarError: dispaly not defined",
     "output_type": "error",
     "traceback": [
      "UndefVarError: dispaly not defined",
      "",
      "Stacktrace:",
      " [1] top-level scope",
      "   @ In[2]:9",
      " [2] eval",
      "   @ ./boot.jl:368 [inlined]",
      " [3] include_string(mapexpr::typeof(REPL.softscope), mod::Module, code::String, filename::String)",
      "   @ Base ./loading.jl:1428"
     ]
    }
   ],
   "source": [
    "using Plots\n",
    "\n",
    "f(x,y) = x + 2y\n",
    "g(x,y) = 2x + y\n",
    "\n",
    "θ(x,y) = (f(x,y) > 3) & (g(x,y) >5 ) & (y > 0) ? 1 : NaN\n",
    "\n",
    "x = y = LinRange(-30,50,1000)\n",
    "pheatmap(x,y,θ, c=:lightblue, legend=false, ratio=1,\n",
    "    xlims=extrema(x),ylims=extrema(y)))"
   ]
  },
  {
   "cell_type": "code",
   "execution_count": 5,
   "id": "fcbb688a-083d-4c48-836c-3c8aba9e201d",
   "metadata": {},
   "outputs": [
    {
     "data": {
      "text/plain": [
       "revised_simplex (generic function with 1 method)"
      ]
     },
     "execution_count": 5,
     "metadata": {},
     "output_type": "execute_result"
    }
   ],
   "source": [
    "using LinearAlgebra, SparseArrays\n",
    "function revised_simplex(A::AbstractMatrix{T}, b::Vector{T},\n",
    "        c::Vector{T}, B::Vector{Int}, tol::T) where T <: Real\n",
    "    (m, n) = size(A)\n",
    "    N = setdiff(collect(1:n), B)\n",
    "    ABinv = inv(convert(Matrix{T}, A[:, B]))\n",
    "    xB = ABinv * b\n",
    "    for iteration = 1:10*m\n",
    "        mu = c[N]' - (c[B]' * ABinv) * A[:, N]\n",
    "        k = argmin(mu')\n",
    "        if mu[k] > -tol # test for convergence\n",
    "            return (dot(c[B], xB), B, xB)\n",
    "        else\n",
    "            d = ABinv * A[:, N[k]] # possible update directions\n",
    "            p = findall(d .> tol)\n",
    "            if isempty(p)\n",
    "                return (-Inf, nothing, nothing) # unbounded below\n",
    "            end\n",
    "            (t, i) = findmin(xB[p] ./ d[p])\n",
    "            (B[p[i]], N[k]) = (N[k], B[p[i]]) # revise vertex set\n",
    "            xB = xB -t * d\n",
    "            xB[p[i]] = t\n",
    "            v = ABinv[p[i], :] / d[p[i]] # Sherman-Morrison update\n",
    "            d[p[i]] = d[p[i]] - one(T)\n",
    "            ABinv = ABinv-d*v'\n",
    "        end\n",
    "    end\n",
    "end"
   ]
  },
  {
   "cell_type": "code",
   "execution_count": 2,
   "id": "15853f2e-14e1-4cef-a13a-16ef8aa6e193",
   "metadata": {},
   "outputs": [
    {
     "data": {
      "text/plain": [
       "simplex_program (generic function with 1 method)"
      ]
     },
     "execution_count": 6,
     "metadata": {},
     "output_type": "execute_result"
    }
   ],
   "source": [
    "function simplex_program(A::AbstractMatrix{T}, b::Vector{T},\n",
    "        c::Vector{T}, tol::T) where T <: Real\n",
    "    (m, n) = size(A)\n",
    "    for i = 1:m\n",
    "        if b[i] < zero(T)\n",
    "            A[i, :] = - A[i, :]\n",
    "            b[i] = - b[i]\n",
    "        end\n",
    "    end\n",
    "    A1=[A I]\n",
    "    c1 = [zeros(T, n); ones(T, m)]\n",
    "    B = collect(n + 1:m + n)\n",
    "    (cost, B, xB) = revised_simplex(A1, b, c1, B, tol) # first phase\n",
    "    if cost > tol\n",
    "        return (\"unbounded\", -Inf, B, xB)\n",
    "    else\n",
    "        (cost, B, xB) = revised_simplex(A, b, c, B, tol) # second phase\n",
    "        if cost < -1e6\n",
    "            return (\"unbounded\", -Inf, B, xB)\n",
    "        else\n",
    "            return (\"solvable\", cost, B, xB)\n",
    "            end\n",
    "        end\n",
    "end"
   ]
  },
  {
   "cell_type": "code",
   "execution_count": 32,
   "id": "7b74df8c-a162-42af-9bcc-5156217ae17a",
   "metadata": {},
   "outputs": [
    {
     "data": {
      "text/plain": [
       "(\"solvable\", 2.6666666666666665, [3, 1], [0.3333333333333334, 2.333333333333333])"
      ]
     },
     "execution_count": 32,
     "metadata": {},
     "output_type": "execute_result"
    }
   ],
   "source": [
    "c = [1.0;-1; 1; 0; 0]; \n",
    "A=[1.0 -1 2 -1 0 ;2 -2 1 0 -1];\n",
    "b = [ 3.0; 5];\n",
    "A = sparse(A);\n",
    "tol = 1e-5;\n",
    "(status, cost, B, xB) = simplex_program(A, b, c, tol)"
   ]
  },
  {
   "cell_type": "markdown",
   "id": "a6bea6d6-2c83-4243-a90d-f674f249ae6c",
   "metadata": {},
   "source": [
    "**(2)**&#8193;Consider the linear program of maximizing $x_1+2 x_2+3 x_3+4 x_4+5$ subject to the constraints\n",
    "$$\n",
    "\\begin{aligned}\n",
    "4 x_1+3 x_2+2 x_3+x_4 & \\leq 10 \\\\\n",
    "x_1-x_3+2 x_4 &=2 \\\\\n",
    "x_1+x_2+x_3+x_4 & \\geq 1\n",
    "\\end{aligned}\n",
    "$$\n",
    "and $x_1 \\geq 0, x_3 \\geq 0, x_4 \\geq 0$. Put this program into canonical form and solve."
   ]
  },
  {
   "cell_type": "markdown",
   "id": "c09c6a95-e0b1-4dc2-b121-f7a41666a4d2",
   "metadata": {},
   "source": [
    "$\\textit{Solution}:$  \n",
    "To maximize $x_1+2 x_2+3 x_3+4 x_4+5$, we first minimize $-x_1-2 x_2-3 x_3-4 x_4 = -x_1-2 (x_2^\\prime-x_2^{\\prime\\prime})-3 x_3-4 x_4 $, and $x_1, x_2^\\prime, x_2^{\\prime\\prime}, x_3, x_4 >0$\n",
    "\\begin{aligned}\n",
    "\\boldsymbol{c} &=\\left[\\begin{array}{lllll}\n",
    "-1 & -2 & 2 & -3 & -4 & 0 &  0 \n",
    "\\end{array}\\right]^{\\mathrm{T}} \\\\\n",
    "\\boldsymbol{A} &=\\left[\\begin{array}{lllll}\n",
    "4 & 3&-3 & 2 & 1 & 1 &  0 \\\\\n",
    "1 & 0 &0& -1 & 2 & 0 &  0 \\\\\n",
    "1 & 1&-1 & 1 & 1 & 0 &  -1 \n",
    "\\end{array}\\right] \\\\\n",
    "\\boldsymbol{b} &=\\left[\\begin{array}{l}\n",
    "10 \\\\\n",
    "2\\\\\n",
    "1\n",
    "\\end{array}\\right]\n",
    "\\end{aligned}"
   ]
  },
  {
   "cell_type": "code",
   "execution_count": 31,
   "id": "8f5e122e-211e-4941-a92c-bd12a396a0d9",
   "metadata": {},
   "outputs": [
    {
     "data": {
      "text/plain": [
       "(\"unbounded\", -Inf, nothing, nothing)"
      ]
     },
     "execution_count": 31,
     "metadata": {},
     "output_type": "execute_result"
    }
   ],
   "source": [
    "c = [-1.0; -2; 2; -3; -4; 0; 0]; \n",
    "A=[4.0 3 -3 2 1 1 0 ;1 0 0 -1 2 0 0; 1 1 -1 1 1 0 -1 ];\n",
    "b = [ 10.0; 2; 1];\n",
    "A = sparse(A);\n",
    "tol = 1e-5;\n",
    "(status, cost, B, xB) = simplex_program(A, b, c, tol)"
   ]
  },
  {
   "cell_type": "markdown",
   "id": "4e39455f-6c77-4e32-b1fe-28468c043aae",
   "metadata": {},
   "source": [
    "This linear program is unbounded."
   ]
  },
  {
   "cell_type": "markdown",
   "id": "da5ee9c5-5087-4b5a-b478-ac1ab960328e",
   "metadata": {},
   "source": [
    "**(3)**&#8193;Convert the problem of minimizing $\\left|x_1+x_2+x_3\\right|$ subject to $x_1-x_2=5$, $x_2-x_3=7$, and $x_1 \\geq 0$, and $x_3 \\geq 2$ into a linear program and solve."
   ]
  },
  {
   "cell_type": "markdown",
   "id": "43da6e55-a8b7-44ce-be5c-5d6edcbeb794",
   "metadata": {},
   "source": [
    "$\\textit{Solution}:$  \n",
    "Set $t$ ,$t \\geq |x_1+x_2+x_3|$   \n",
    "Since $|x_1+x_2+x_3|$ is either $x_1+x_2+x_3$ or $-(x_1+x_2+x_3)$  \n",
    "$t \\geq x_1+x_2+x_3 $ and  $t \\geq -(x_1+x_2+x_3) $  \n",
    "Now, minimize $t$. So, our problem is  \n",
    "$\\min t$  \n",
    "subject to\n",
    "$x_1-x_2=5$  \n",
    "$x_2-x_3=7$  \n",
    "$t \\geq x_1+x_2+x_3 $  \n",
    "$t \\geq -(x_1+x_2+x_3) $   \n",
    "$x_1 \\geq 0$, and $x_3 \\geq 2$"
   ]
  },
  {
   "cell_type": "code",
   "execution_count": 44,
   "id": "fe9f1f5c-8516-43fe-aae3-c517ef0e1174",
   "metadata": {},
   "outputs": [
    {
     "data": {
      "text/plain": [
       "(\"solvable\", 19.0, [1, 2, 7, 3, 5], [19.0, 12.0, 38.0, 7.0, 0.0])"
      ]
     },
     "execution_count": 44,
     "metadata": {},
     "output_type": "execute_result"
    }
   ],
   "source": [
    "c = [1.0; 0; 0; 0; 0; 0; 0; 0]; \n",
    "A=[1.0 -1 -1 1 -1 -1 0 0 ;1 1 1 -1 1 0 -1 0; \n",
    "    0 1 -1 1 0 0 0 0; 0 0 1 -1 -1 0 0 0; 0 0 0 0 1 0 0 -1 ];\n",
    "b = [ 0.0; 0; 5; 7; 0];\n",
    "A = sparse(A);\n",
    "tol = 1e-5;\n",
    "(status, cost, B, xB) = simplex_program(A, b, c, tol)"
   ]
  },
  {
   "cell_type": "markdown",
   "id": "3fb8e107-0305-4a35-876e-cb9e6d245e03",
   "metadata": {},
   "source": [
    "**(6)**&#8193;A set $C$ is said to be convex if whenever $\\boldsymbol{u}$ and $\\boldsymbol{v}$ belong to $C$, then the entire line segment $[\\boldsymbol{u}, \\boldsymbol{v}]=\\{t \\boldsymbol{u}+(1-t) \\boldsymbol{v}: t \\in[0,1]\\}$ belongs to $C$. Show that the feasible region of a linear program is convex. A set $C$ is said to be closed if whenever a sequence $\\boldsymbol{x}_n$ from $C$ converges to a limit $\\boldsymbol{x}$, then $\\boldsymbol{x}$ also belongs to $C$. Show that the feasible region of a linear program is closed."
   ]
  },
  {
   "cell_type": "markdown",
   "id": "8f0104e9-c2cd-43f2-a73a-a49cb383a100",
   "metadata": {},
   "source": [
    "$\\textit{Solution}:$  \n",
    "Consider the feasible region $ S:=\\left\\{A x \\leq b: x \\in \\mathbb{R}^n\\right\\}$  \n",
    "$x, y \\in S$ and an arbitrary convex combination $\\alpha x+(1-\\alpha) y$ with $\\alpha \\in(0,1)$  \n",
    "$$\n",
    "A(\\alpha x+(1-\\alpha) y)=\\alpha A x+(1-\\alpha) A y \\leq \\alpha b+(1-\\alpha) b=b\n",
    "$$\n",
    "So S is convex."
   ]
  },
  {
   "cell_type": "markdown",
   "id": "2c709be6-ec16-4fe8-bc2d-0b664331a3a1",
   "metadata": {},
   "source": [
    "## Chapter 08"
   ]
  },
  {
   "cell_type": "markdown",
   "id": "4e52a1bc-73cb-479a-9fcb-087f3f684b88",
   "metadata": {},
   "source": [
    "**(3)**&#8193;Find the eigenvalues and eigenvectors of the rotation matrix\n",
    "$$\n",
    "\\left(\\begin{array}{cc}\n",
    "\\cos \\theta & -\\sin \\theta \\\\\n",
    "\\sin \\theta & \\cos \\theta\n",
    "\\end{array}\\right) \\text {. }\n",
    "$$\n",
    "Note that the eigenvalues are complex conjugates."
   ]
  },
  {
   "cell_type": "markdown",
   "id": "473fd211-e523-4543-8fdd-3a29d58e0859",
   "metadata": {},
   "source": [
    "$\\textit{Solution}:$ \n",
    "set $A=\\left[\\begin{array}{cc}\n",
    "\\cos \\theta & -\\sin \\theta \\\\\n",
    "\\sin \\theta & \\cos \\theta\n",
    "\\end{array}\\right]$  \n",
    "\n",
    "compute the characteristic polynomial $p(t)$\n",
    "\\begin{aligned}\n",
    "p(t) &=\\operatorname{det}(A-t I) \\\\\n",
    "&=\\left|\\begin{array}{cc}\n",
    "\\cos \\theta-t & -\\sin \\theta \\\\\n",
    "\\sin \\theta & \\cos \\theta-t\n",
    "\\end{array}\\right| \\\\\n",
    "&=(\\cos \\theta-t)^2+\\sin ^2 \\theta \\\\\n",
    "&=t^2-(2 \\cos \\theta) t+\\cos ^2 \\theta+\\sin ^2 \\theta \\\\\n",
    "&=t^2-(2 \\cos \\theta) t+1\n",
    "\\end{aligned}"
   ]
  },
  {
   "cell_type": "markdown",
   "id": "b0b958c9-6024-4341-9ab5-a81d689ce992",
   "metadata": {},
   "source": [
    "\\begin{aligned}\n",
    "t &=\\frac{2 \\cos \\theta \\pm \\sqrt{(2 \\cos \\theta)^2-4}}{2} \\\\\n",
    "&=\\cos \\theta \\pm \\sqrt{\\cos ^2 \\theta-1} \\\\\n",
    "&=\\cos \\theta \\pm \\sqrt{-\\sin ^2 \\theta} \\\\\n",
    "&=\\cos \\theta \\pm i \\sin \\theta\n",
    "\\end{aligned}\n",
    "\n",
    "$$\n",
    "A-\\lambda I=\\left[\\begin{array}{cc}\n",
    "-i \\sin \\theta & -\\sin \\theta \\\\\n",
    "\\sin \\theta & -i \\sin \\theta\n",
    "\\end{array}\\right]\n",
    "$$\n",
    "If $\\theta=0 $ or $\\pi$, then $\\sin \\theta=0$ and we have\n",
    "$$\n",
    "A-\\lambda I=\\left[\\begin{array}{ll}\n",
    "0 & 0 \\\\\n",
    "0 & 0\n",
    "\\end{array}\\right]\n",
    "$$\n",
    "each nonzero vector of $\\mathbb{R}^2$ is an eigenvector."
   ]
  },
  {
   "cell_type": "markdown",
   "id": "10a3c230-1234-458f-a154-9dbe1b390acb",
   "metadata": {},
   "source": [
    "If $\\lambda \\neq 0, \\lambda \\neq \\pi$, then $\\sin \\theta \\neq 0$.\n",
    "By row operations,\n",
    "$$A-\\lambda I=\\left[\\begin{array}{cc}\n",
    "-i \\sin \\theta & -\\sin \\theta \\\\\n",
    "\\sin \\theta & -i \\sin \\theta\n",
    "\\end{array}\\right] \\xrightarrow[\\frac{t}{\\sin \\theta} R_2]{\\frac{t}{\\sin \\theta} R_1} \\left[\\begin{array}{ll}\n",
    "1 & -i \\\\\n",
    "1 & -i\n",
    "\\end{array}\\right] \\xrightarrow{R_2-R_1}\\left[\\begin{array}{cc}\n",
    "1 & -i \\\\\n",
    "0 & 0\n",
    "\\end{array}\\right]\n",
    "$$\n",
    "When $\\theta=0$ or $\\theta= \\pi$, the eigenvalues are $1,-1$, respectively, and every nonzero vector of $\\mathbb{R}^2$ is an eigenvector.  \n",
    "If $\\lambda \\neq 0, \\lambda \\neq \\pi$, then the eigenvector corresponding to the eigenvalue $\\cos \\theta+i \\sin \\theta$ is\n",
    "$$\n",
    "\\left[\\begin{array}{l}\n",
    "i \\\\\n",
    "1\n",
    "\\end{array}\\right] t\n",
    "$$\n",
    "The eigenvector corresponding to the eigenvalue $\\cos \\theta-i \\sin \\theta$ is\n",
    "$$\n",
    "\\left[\\begin{array}{c}\n",
    "-i \\\\\n",
    "1\n",
    "\\end{array}\\right] t\n",
    "$$\n",
    "where $t \\neq 0$"
   ]
  },
  {
   "cell_type": "markdown",
   "id": "b515ef50-1deb-4035-9bea-b78cc6a51ae5",
   "metadata": {},
   "source": [
    "**(4)**&#8193;Find the eigenvalues and eigenvectors of the reflection matrix\n",
    "$$\n",
    "\\left(\\begin{array}{cc}\n",
    "\\cos \\theta & \\sin \\theta \\\\\n",
    "\\sin \\theta & -\\cos \\theta\n",
    "\\end{array}\\right)\n",
    "$$"
   ]
  },
  {
   "cell_type": "markdown",
   "id": "f3d357d3-c31c-4b48-b9ac-2aeac9d39e3e",
   "metadata": {},
   "source": [
    "$\\textit{Solution}:$ \n",
    "set $A=\\left[\\begin{array}{cc}\n",
    "\\cos \\theta & \\sin \\theta \\\\\n",
    "\\sin \\theta & -\\cos \\theta\n",
    "\\end{array}\\right]$\n",
    "\\begin{aligned}\n",
    "\\operatorname{det}(A-\\lambda I)&=\\left|\\begin{array}{cc}\n",
    "\\cos \\theta-\\lambda & \\sin \\theta \\\\\n",
    "\\sin \\theta & -\\cos \\theta-\\lambda\n",
    "\\end{array}\\right| \\\\\n",
    "&=\\lambda^2 -{\\cos \\theta}^2-\\sin ^2 \\theta \\\\\n",
    "&=\\lambda^2-1\\\\\n",
    "\\lambda& =\\pm1\n",
    "\\end{aligned}"
   ]
  },
  {
   "cell_type": "markdown",
   "id": "d7eb1a69-b2c8-417c-b7d1-dd0b73b2db1e",
   "metadata": {},
   "source": [
    "Eigenvalues $= \\pm 1$  \n",
    "For $\\lambda=1$, \n",
    "$$\n",
    "\\left(\\begin{array}{cc}\n",
    "\\cos \\theta-1 & \\sin \\theta \\\\\n",
    "\\sin \\theta & -(\\cos \\theta+1)\n",
    "\\end{array}\\right) v_1=0\n",
    "$$\n",
    "Take $R_2=-\\frac{\\sin \\theta}{\\cos \\theta-1} R_1+R 2$,\n",
    "$$\n",
    "\\left(\\begin{array}{cc}\n",
    "\\cos \\theta-1 & \\sin \\theta \\\\\n",
    "0 & 0\n",
    "\\end{array}\\right) v_1=0\n",
    "$$\n",
    "$$\n",
    "v_1=\\left(\\begin{array}{l}\n",
    "\\cos \\frac{\\theta}{2} \\\\\n",
    "\\sin \\frac{\\theta}{2} \n",
    "\\end{array}\\right)\n",
    "$$"
   ]
  },
  {
   "cell_type": "markdown",
   "id": "b9e2c18d-9d3a-4aaa-95cb-88c1cbcd2709",
   "metadata": {},
   "source": [
    "For $\\lambda=-1$, \n",
    "$$\n",
    "\\left(\\begin{array}{cc}\n",
    "\\cos \\theta+1 & \\sin \\theta \\\\\n",
    "\\sin \\theta & -\\cos \\theta+1\n",
    "\\end{array}\\right) v_2=0\n",
    "$$\n",
    "Take $R_2=-\\frac{\\sin \\theta}{\\cos \\theta+1} R_1+R 2$,\n",
    "$$\n",
    "\\left(\\begin{array}{cc}\n",
    "\\cos \\theta+1 & \\sin \\theta \\\\\n",
    "0 & 0\n",
    "\\end{array}\\right) v_2=0\n",
    "$$\n",
    "$$\n",
    "v_2=\\left(\\begin{array}{l}\n",
    "\\sin \\frac{\\theta}{2} \\\\\n",
    "-\\cos \\frac{\\theta}{2} \n",
    "\\end{array}\\right)\n",
    "$$"
   ]
  },
  {
   "cell_type": "markdown",
   "id": "01fb79ab-c08d-4c0a-826e-981c88aa565a",
   "metadata": {},
   "source": [
    "**(6)**&#8193;A matrix $A$ with real entries is said to be skew-symmetric if $A^*=-A$. Show that all eigenvalues of a skew-symmetric matrix are imaginary or 0 ."
   ]
  },
  {
   "cell_type": "markdown",
   "id": "f1177ff0-9b03-4150-9094-0e5a68fd6b40",
   "metadata": {},
   "source": [
    "$\\textit{Solution}:$  \n",
    "$A +A^*=0$\n",
    "let $v$ be an eigenvector,so $Av=\\lambda v$ and $v \\neq 0$\n",
    "\\begin{aligned}\n",
    "v^*\\left(A+A^*\\right) v&=v^* A v+v^* A^* v\\\\\n",
    "&=v^* \\lambda v+(A v)^* v\\\\\n",
    "&=\\lambda v^* v+\\bar{\\lambda} v^* v\\\\\n",
    "&=(\\lambda+\\bar{\\lambda}) v^* v=0\\\\\n",
    "&\\lambda+\\bar{\\lambda} = 0\\\\\n",
    "&-\\lambda=\\bar{\\lambda}\n",
    "\\end{aligned}\n",
    "$$\\therefore \\Re(\\lambda)=0$$\n",
    "$\\lambda$ is either imaginary or 0."
   ]
  },
  {
   "cell_type": "markdown",
   "id": "c9cc52b5-7550-462a-876a-8ddf10b7c49d",
   "metadata": {},
   "source": [
    "**(7)**&#8193;Continuing the previous problem, suppose that $\\boldsymbol{A}$ is skew-symmetric. Prove that $\\boldsymbol{I}-\\boldsymbol{A}$ is invertible and that $(\\boldsymbol{I}-\\boldsymbol{A})^{-1}(\\boldsymbol{I}+\\boldsymbol{A})$ is orthogonal. The latter matrix is called the Cayley transform of $\\boldsymbol{A}$."
   ]
  },
  {
   "cell_type": "markdown",
   "id": "7f6ac005-6592-4316-8021-afa595b7b8b0",
   "metadata": {},
   "source": [
    "$\\textit{Solution}:$  \n",
    "By previous question, the eigenvalues of $A$ are imaginary or 0.  \n",
    "The eigenvalues of $\\boldsymbol{I}-\\boldsymbol{A}$ are $1-\\lambda$, where $\\lambda$ is the eigenvalue of $A$.  \n",
    "Since $\\lambda$ is imaginary or 0, $1-\\lambda$ cannot be 0.  \n",
    "Thus, $\\boldsymbol{I}-\\boldsymbol{A}$ do not have eigenvalues equal to $0$.  \n",
    "$det(\\boldsymbol{I}-\\boldsymbol{A})$ is the product of all eigenvalues of $\\boldsymbol{I}-\\boldsymbol{A}$, so $det(\\boldsymbol{I}-\\boldsymbol{A}) \\neq 0$  \n",
    " $\\boldsymbol{I}-\\boldsymbol{A}$ is nonsingular and invertible. "
   ]
  },
  {
   "cell_type": "markdown",
   "id": "d334e89e-fccd-45dc-874e-3fc3a92d48ce",
   "metadata": {},
   "source": [
    "Set  $(\\boldsymbol{I}-\\boldsymbol{A})^{-1}(\\boldsymbol{I}+\\boldsymbol{A}) = B$   \n",
    "To prove $B$ is orthogonal, we need to show  $B^{\\mathrm{T}}B =I$ \n",
    "\\begin{align*}\n",
    "B^{\\mathrm{T}} &=((I-A)^{-1}(I+A))^{\\mathrm{T}} \\\\\n",
    "&=(I+A)^{\\mathrm{T}}((I-A)^{-1})^{\\mathrm{T}} \\\\\n",
    "&=(I+A)^{\\mathrm{T}}((I-A)^{\\mathrm{T}})^{-1} \\\\\n",
    "&=(I^{\\mathrm{T}}+A^{\\mathrm{T}})(I^{\\mathrm{T}}-A^{\\mathrm{T}})^{-1} \\\\\n",
    "&=(I+A^{\\mathrm{T}})(I-A^{\\mathrm{T}})^{-1}\\\\\n",
    "&\\overset{*}{=}(I-A)(I+A)^{-1}\n",
    "\\end{align*}\n",
    "setp(*) holds because $\\boldsymbol{A}$ is skew-symmetric, $A^{\\mathrm{T}}=-A$"
   ]
  },
  {
   "cell_type": "markdown",
   "id": "7fe3db53-add5-4403-88e8-64f312a959d9",
   "metadata": {},
   "source": [
    "\\begin{aligned}\n",
    "B^{\\mathrm{T}}B&= (I-A)(I+A)^{-1}(I-A)^{-1}(I+A)\\\\\n",
    "&= (I-A)((I+A)(I-A))^{-1}(I+A)\\\\\n",
    "&\\overset{*}{=} (I-A)((I-A)(I+A))^{-1}(I+A)\\\\\n",
    "&= (I-A)(I-A)^{-1}(I+A)^{-1}(I+A)\\\\\n",
    "&= I \\cdot I \\\\\n",
    "&= I\n",
    "\\end{aligned}\n",
    "setp(*) holds because \n",
    "$$\n",
    "(I+A)(I-A)=(I+A) I-(I+A) A=I-A^2=(I-A) I+(I-A) A=(I-A)(I+A)\n",
    "$$\n",
    "So $B =(\\boldsymbol{I}-\\boldsymbol{A})^{-1}(\\boldsymbol{I}+\\boldsymbol{A}) $ is orthogonal."
   ]
  }
 ],
 "metadata": {
  "kernelspec": {
   "display_name": "Julia 1.8.1",
   "language": "julia",
   "name": "julia-1.8"
  },
  "language_info": {
   "file_extension": ".jl",
   "mimetype": "application/julia",
   "name": "julia",
   "version": "1.8.1"
  }
 },
 "nbformat": 4,
 "nbformat_minor": 5
}
